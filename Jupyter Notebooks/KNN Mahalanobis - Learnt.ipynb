{
 "cells": [
  {
   "cell_type": "code",
   "execution_count": 1,
   "metadata": {},
   "outputs": [],
   "source": [
    "import numpy as np\n",
    "\n",
    "import seaborn as sns\n",
    "import matplotlib\n",
    "import matplotlib.pyplot as plt\n",
    "\n",
    "#Store Data Variables\n",
    "import json\n",
    "with open('feature_data.json', 'r') as f:\n",
    " features = json.load(f)\n",
    "\n",
    "from scipy.io import loadmat\n",
    "train_idxs = loadmat('cuhk03_new_protocol_config_labeled.mat')['train_idx'].flatten()\n",
    "query_idxs = loadmat('cuhk03_new_protocol_config_labeled.mat')['query_idx'].flatten()\n",
    "labels = loadmat('cuhk03_new_protocol_config_labeled.mat')['labels'].flatten()\n",
    "gallery_idxs = loadmat('cuhk03_new_protocol_config_labeled.mat')['gallery_idx'].flatten()\n",
    "filelist = loadmat('cuhk03_new_protocol_config_labeled.mat')['filelist'].flatten()\n",
    "camId = loadmat('cuhk03_new_protocol_config_labeled.mat')['camId'].flatten()"
   ]
  },
  {
   "cell_type": "code",
   "execution_count": 9,
   "metadata": {},
   "outputs": [],
   "source": [
    "\n",
    "X = np.array(features)\n",
    "y = np.array(labels)\n",
    "filelist = np.array(filelist)\n",
    "camId = np.array(camId)\n",
    "\n"
   ]
  },
  {
   "cell_type": "code",
   "execution_count": 10,
   "metadata": {},
   "outputs": [],
   "source": [
    "mask_train = np.array(train_idxs).ravel()\n",
    "mask_query = np.array(query_idxs).ravel()\n",
    "mask_gallery = np.array(gallery_idxs).ravel()\n",
    "\n",
    "mask_train = np.subtract(mask_train, 1)\n",
    "mask_query = np.subtract(mask_query, 1)\n",
    "mask_gallery = np.subtract(mask_gallery, 1)\n",
    "\n",
    "\n",
    "X_train, X_query, X_gallery = X[mask_train, :], X[mask_query, :], X[mask_gallery, :]\n",
    "y_train, y_query, y_gallery = y[mask_train], y[mask_query], y[mask_gallery]\n",
    "filelist_train, filelist_query, filelist_gallery = filelist[mask_train], filelist[mask_query], filelist[mask_gallery]\n",
    "camId_train, camId_query, camId_gallery = camId[mask_train], camId[mask_query], camId[mask_gallery]\n"
   ]
  },
  {
   "cell_type": "code",
   "execution_count": 11,
   "metadata": {},
   "outputs": [],
   "source": [
    "def get_acc_score(y_valid, y_q, tot_label_occur):\n",
    "    recall = 0\n",
    "    true_positives = 0\n",
    "    \n",
    "    k = 0\n",
    "    \n",
    "    max_rank = 30\n",
    "    \n",
    "    rank_A = np.zeros(max_rank)\n",
    "    AP_arr = np.zeros(11)\n",
    "    \n",
    "    while (recall < 1) or (k < max_rank):\n",
    "        \n",
    "        if (y_valid[k] == y_q):\n",
    "            \n",
    "            true_positives = true_positives + 1\n",
    "            recall = true_positives/tot_label_occur\n",
    "            precision = true_positives/(k+1)\n",
    "            \n",
    "            AP_arr[round((recall-0.05)*10)] = precision\n",
    "            \n",
    "            for n in range (k, max_rank):\n",
    "                rank_A[n] = 1\n",
    "            \n",
    "        k = k+1\n",
    "        \n",
    "    max_precision = 0\n",
    "    for i in range(10, -1, -1):\n",
    "        max_precision = max(max_precision, AP_arr[i])\n",
    "        AP_arr[i] = max_precision\n",
    "    \n",
    "    AP_ = AP_arr.sum()/11\n",
    "    \n",
    "    return AP_, rank_A"
   ]
  },
  {
   "cell_type": "code",
   "execution_count": 12,
   "metadata": {
    "scrolled": false
   },
   "outputs": [],
   "source": [
    "from scipy.spatial import distance\n",
    "from sklearn.metrics import pairwise\n",
    "\n",
    "\n",
    "def evaluate_metric(X_query, camId_query, y_query, X_gallery, camId_gallery, y_gallery, metric = 'euclidian', parameters = None):\n",
    "\n",
    "    rank_accuracies = []\n",
    "    AP = []\n",
    "\n",
    "    # Break condition for testing\n",
    "    #q = 0\n",
    "\n",
    "    for query, camId_q, y_q in zip(X_query, camId_query, y_query):\n",
    "        q_g_dists = []\n",
    "        y_valid = []\n",
    "        for gallery, camId_g, y_g  in zip(X_gallery, camId_gallery, y_gallery):\n",
    "            if ((camId_q == camId_g) and (y_q == y_g)):\n",
    "                continue\n",
    "            else:\n",
    "                if metric == 'euclidian':\n",
    "                    dist = distance.euclidean(query, gallery)\n",
    "                elif metric == 'sqeuclidean':\n",
    "                    dist = distance.sqeuclidean(query, gallery)\n",
    "                elif metric == 'mahalanobis':\n",
    "                    dist = distance.mahalanobis(query, gallery, parameters)\n",
    "                else:\n",
    "                    raise NameError('Specified metric not supported')           \n",
    "                q_g_dists.append(dist)\n",
    "                y_valid.append(y_g)\n",
    "    \n",
    "        tot_label_occur = y_valid.count(y_q)\n",
    "    \n",
    "        q_g_dists = np.array(q_g_dists)\n",
    "        y_valid = np.array(y_valid)\n",
    "    \n",
    "        _indexes = np.argsort(q_g_dists)\n",
    "    \n",
    "        # Sorted distances and labels\n",
    "        q_g_dists, y_valid = q_g_dists[_indexes], y_valid[_indexes]\n",
    "    \n",
    "        AP_, rank_A = get_acc_score(y_valid, y_q, tot_label_occur)\n",
    "    \n",
    "        AP.append(AP_)\n",
    "        \n",
    "        rank_accuracies.append(rank_A)\n",
    "    \n",
    "        #if q  > 5:\n",
    "        #    break\n",
    "        #q = q+1\n",
    "\n",
    "    rank_accuracies = np.array(rank_accuracies)\n",
    "\n",
    "    total = rank_accuracies.shape[0]\n",
    "    rank_accuracies = rank_accuracies.sum(axis = 0)\n",
    "    rank_accuracies = np.divide(rank_accuracies, total)\n",
    "\n",
    "    i = 0\n",
    "    print ('Accuracies by Rank:')\n",
    "    while i < rank_accuracies.shape[0]:\n",
    "        print('Rank ', i+1, ' = %.2f%%' % (rank_accuracies[i] * 100), '\\t',\n",
    "              'Rank ', i+2, ' = %.2f%%' % (rank_accuracies[i+1] * 100), '\\t',\n",
    "              'Rank ', i+3, ' = %.2f%%' % (rank_accuracies[i+2] * 100), '\\t',\n",
    "              'Rank ', i+4, ' = %.2f%%' % (rank_accuracies[i+3] * 100), '\\t',\n",
    "              'Rank ', i+5, ' = %.2f%%' % (rank_accuracies[i+4] * 100))\n",
    "        i = i+5\n",
    "\n",
    "    AP = np.array(AP)\n",
    "\n",
    "    mAP = AP.sum()/AP.shape[0]\n",
    "    print('mAP = %.2f%%' % (mAP * 100))\n",
    "    \n",
    "    return rank_accuracies, mAP\n",
    "\n",
    "    \n",
    "        \n",
    "    "
   ]
  },
  {
   "cell_type": "code",
   "execution_count": 13,
   "metadata": {},
   "outputs": [],
   "source": [
    "rank_accuracies_l_2 = []\n",
    "mAP_l_2 = []\n",
    "metric_l_2 = []"
   ]
  },
  {
   "cell_type": "code",
   "execution_count": 26,
   "metadata": {},
   "outputs": [],
   "source": [
    "#Obtained from other file\n",
    "\n",
    "rank_accuracy_base = np.array([47.00, 54.57, 59.64, 63.93, 66.86, 69.29, 71.14, 72.36, 73.71, 74.93, 75.86, 76.79, 77.71, 78.50, 79.07, 79.86, 80.64, 81.57, 82.29, 83.21, 83.50, 83.71, 84.00, 84.29, 84.79, 85.29, 85.64, 85.93, 86.07, 86.36])\n"
   ]
  },
  {
   "cell_type": "code",
   "execution_count": null,
   "metadata": {},
   "outputs": [
    {
     "name": "stdout",
     "output_type": "stream",
     "text": [
      "(2048, 2048)\n",
      "(2048, 2048)\n",
      "Accuracies by Rank:\n",
      "Rank  1  = 30.93% \t Rank  2  = 36.14% \t Rank  3  = 39.79% \t Rank  4  = 43.00% \t Rank  5  = 45.50%\n",
      "Rank  6  = 46.93% \t Rank  7  = 47.79% \t Rank  8  = 48.71% \t Rank  9  = 49.57% \t Rank  10  = 50.14%\n",
      "Rank  11  = 50.71% \t Rank  12  = 51.57% \t Rank  13  = 51.93% \t Rank  14  = 52.71% \t Rank  15  = 53.50%\n",
      "Rank  16  = 54.21% \t Rank  17  = 54.71% \t Rank  18  = 55.29% \t Rank  19  = 55.57% \t Rank  20  = 55.93%\n",
      "Rank  21  = 56.64% \t Rank  22  = 56.64% \t Rank  23  = 57.14% \t Rank  24  = 57.29% \t Rank  25  = 57.71%\n",
      "Rank  26  = 58.00% \t Rank  27  = 58.29% \t Rank  28  = 58.64% \t Rank  29  = 59.07% \t Rank  30  = 59.21%\n",
      "mAP = 24.26%\n"
     ]
    }
   ],
   "source": [
    "\n",
    "#Mahalanobis - inverse covariance\n",
    "\n",
    "\n",
    "V = np.cov(X_train.T)\n",
    "\n",
    "print (V.shape)\n",
    "\n",
    "VI = np.linalg.inv(V)\n",
    "\n",
    "print (VI.shape)\n",
    "\n",
    "\n",
    "\n",
    "rank_accuracies, mAP = evaluate_metric(X_query, camId_query, y_query,\n",
    "                                       X_gallery, camId_gallery, y_gallery,\n",
    "                                       metric ='mahalanobis',\n",
    "                                       parameters = VI)\n",
    "\n",
    "rank_accuracies_l_2.append(rank_accuracies)\n",
    "mAP_l_2.append(mAP)\n",
    "metric_l_2.append('Mahalanobis - Covariance')"
   ]
  },
  {
   "cell_type": "code",
   "execution_count": 16,
   "metadata": {},
   "outputs": [
    {
     "name": "stderr",
     "output_type": "stream",
     "text": [
      "/anaconda3/lib/python3.6/site-packages/metric_learn/constraints.py:62: UserWarning: Only generated 1280 positive constraints (requested 5120)\n",
      "  len(ab), 'positive' if same_label else 'negative', num_constraints))\n"
     ]
    },
    {
     "name": "stdout",
     "output_type": "stream",
     "text": [
      "Metric learnt\n",
      "Accuracies by Rank:\n",
      "Rank  1  = 46.79% \t Rank  2  = 54.50% \t Rank  3  = 59.57% \t Rank  4  = 64.29% \t Rank  5  = 67.43%\n",
      "Rank  6  = 69.50% \t Rank  7  = 71.07% \t Rank  8  = 72.21% \t Rank  9  = 73.57% \t Rank  10  = 74.93%\n",
      "Rank  11  = 75.79% \t Rank  12  = 77.00% \t Rank  13  = 77.93% \t Rank  14  = 78.86% \t Rank  15  = 79.36%\n",
      "Rank  16  = 79.93% \t Rank  17  = 80.29% \t Rank  18  = 81.43% \t Rank  19  = 81.93% \t Rank  20  = 82.93%\n",
      "Rank  21  = 83.43% \t Rank  22  = 83.93% \t Rank  23  = 84.21% \t Rank  24  = 84.43% \t Rank  25  = 84.79%\n",
      "Rank  26  = 85.21% \t Rank  27  = 85.64% \t Rank  28  = 85.71% \t Rank  29  = 86.00% \t Rank  30  = 86.36%\n",
      "mAP = 46.56%\n"
     ]
    }
   ],
   "source": [
    "from metric_learn import MMC_Supervised\n",
    "from sklearn.decomposition import PCA\n",
    "\n",
    "#Mahalanobis - learnt - reduced set\n",
    "\n",
    "\n",
    "pca = PCA(n_components=150)\n",
    "X_train_pca = pca.fit_transform(X_train)\n",
    "X_query_pca = pca.transform(X_query)\n",
    "X_gallery_pca = pca.transform(X_gallery)\n",
    "\n",
    "mmc = MMC_Supervised(max_iter=50)\n",
    "mmc.fit(X_train_pca[0:150], y_train[0:150])\n",
    "\n",
    "\n",
    "\n",
    "M = mmc.metric()\n",
    "\n",
    "print ('Metric learnt')\n",
    "\n",
    "\n",
    "rank_accuracies, mAP = evaluate_metric(X_query_pca, camId_query, y_query,\n",
    "                                       X_gallery_pca, camId_gallery, y_gallery,\n",
    "                                       metric ='mahalanobis',\n",
    "                                       parameters = M)\n",
    "\n",
    "rank_accuracies_l_2.append(rank_accuracies)\n",
    "mAP_l_2.append(mAP)\n",
    "metric_l_2.append('Learnt Mahalanobis (Red. Set)')\n"
   ]
  },
  {
   "cell_type": "code",
   "execution_count": 24,
   "metadata": {},
   "outputs": [
    {
     "name": "stderr",
     "output_type": "stream",
     "text": [
      "/anaconda3/lib/python3.6/site-packages/metric_learn/lmnn.py:62: UserWarning: use_pca does nothing for the python_LMNN implementation\n",
      "  warnings.warn('use_pca does nothing for the python_LMNN implementation')\n"
     ]
    },
    {
     "name": "stdout",
     "output_type": "stream",
     "text": [
      "Metric learnt\n",
      "Accuracies by Rank:\n",
      "Rank  1  = 43.71% \t Rank  2  = 52.43% \t Rank  3  = 57.71% \t Rank  4  = 61.29% \t Rank  5  = 64.07%\n",
      "Rank  6  = 66.43% \t Rank  7  = 68.29% \t Rank  8  = 69.71% \t Rank  9  = 71.71% \t Rank  10  = 72.71%\n",
      "Rank  11  = 73.86% \t Rank  12  = 74.93% \t Rank  13  = 75.86% \t Rank  14  = 76.29% \t Rank  15  = 76.79%\n",
      "Rank  16  = 77.36% \t Rank  17  = 78.00% \t Rank  18  = 78.86% \t Rank  19  = 79.29% \t Rank  20  = 79.79%\n",
      "Rank  21  = 80.29% \t Rank  22  = 80.86% \t Rank  23  = 81.43% \t Rank  24  = 82.00% \t Rank  25  = 82.36%\n",
      "Rank  26  = 83.14% \t Rank  27  = 83.50% \t Rank  28  = 83.86% \t Rank  29  = 84.21% \t Rank  30  = 84.71%\n",
      "mAP = 43.01%\n"
     ]
    }
   ],
   "source": [
    "from metric_learn import LMNN\n",
    "\n",
    "lmnn = LMNN(k=3, learn_rate=1e-6, max_iter=50)\n",
    "lmnn.fit(X_train_pca, y_train)\n",
    "\n",
    "\n",
    "M = lmnn.metric()\n",
    "\n",
    "print ('Metric learnt')\n",
    "\n",
    "\n",
    "\n",
    "rank_accuracies, mAP = evaluate_metric(X_query_pca, camId_query, y_query,\n",
    "                                       X_gallery_pca, camId_gallery, y_gallery,\n",
    "                                       metric ='mahalanobis',\n",
    "                                       parameters = M)\n",
    "\n",
    "rank_accuracies_l_2.append(rank_accuracies)\n",
    "mAP_l_2.append(mAP)\n",
    "metric_l_2.append('Learnt LMNN')"
   ]
  },
  {
   "cell_type": "code",
   "execution_count": 29,
   "metadata": {},
   "outputs": [
    {
     "data": {
      "text/plain": [
       "<matplotlib.legend.Legend at 0x1a4f118ef0>"
      ]
     },
     "execution_count": 29,
     "metadata": {},
     "output_type": "execute_result"
    },
    {
     "data": {
      "image/png": "[encoded data removed]",
      "text/plain": [
       "<matplotlib.figure.Figure at 0x1a4f020a58>"
      ]
     },
     "metadata": {},
     "output_type": "display_data"
    }
   ],
   "source": [
    "plt.figure(figsize=(8.0, 6.0))\n",
    "color_list = ['green', 'blue', 'red', 'purple', 'orange', 'magenta', 'cyan', 'black', 'indianred', 'lightseagreen', 'gold', 'lightgreen']\n",
    "for i in range(len(metric_l_2)):\n",
    "    plt.plot(np.arange(1, 31), 100*rank_accuracies_l_2[i], color=color_list[i], linestyle='dashed', label=metric_l_2[i])\n",
    "plt.plot(np.arange(1, 31), rank_accuracy_base, color='darkorange', linestyle=':', label='kNN Baseline')\n",
    "plt.title('CMC Curves for various Mahalanobis based methods')\n",
    "plt.xlabel('Rank')\n",
    "plt.ylabel('Recogniton Accuracy / %')\n",
    "plt.legend(loc='best')"
   ]
  },
  {
   "cell_type": "code",
   "execution_count": null,
   "metadata": {},
   "outputs": [],
   "source": []
  }
 ],
 "metadata": {
  "kernelspec": {
   "display_name": "Python 3",
   "language": "python",
   "name": "python3"
  },
  "language_info": {
   "codemirror_mode": {
    "name": "ipython",
    "version": 3
   },
   "file_extension": ".py",
   "mimetype": "text/x-python",
   "name": "python",
   "nbconvert_exporter": "python",
   "pygments_lexer": "ipython3",
   "version": "3.6.5"
  }
 },
 "nbformat": 4,
 "nbformat_minor": 2
}
