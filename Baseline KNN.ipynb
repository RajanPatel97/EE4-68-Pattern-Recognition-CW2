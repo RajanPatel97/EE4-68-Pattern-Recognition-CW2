{
 "cells": [
  {
   "cell_type": "code",
   "execution_count": 1,
   "metadata": {},
   "outputs": [],
   "source": [
    "import numpy as np\n",
    "\n",
    "#Store Data Variables\n",
    "import json\n",
    "with open('feature_data.json', 'r') as f:\n",
    " features = json.load(f)\n",
    "\n",
    "from scipy.io import loadmat\n",
    "train_idxs = loadmat('cuhk03_new_protocol_config_labeled.mat')['train_idx'].flatten()\n",
    "query_idxs = loadmat('cuhk03_new_protocol_config_labeled.mat')['query_idx'].flatten()\n",
    "labels = loadmat('cuhk03_new_protocol_config_labeled.mat')['labels'].flatten()\n",
    "gallery_idxs = loadmat('cuhk03_new_protocol_config_labeled.mat')['gallery_idx'].flatten()\n",
    "filelist = loadmat('cuhk03_new_protocol_config_labeled.mat')['filelist'].flatten()\n",
    "camId = loadmat('cuhk03_new_protocol_config_labeled.mat')['camId'].flatten()"
   ]
  },
  {
   "cell_type": "code",
   "execution_count": 2,
   "metadata": {},
   "outputs": [
    {
     "data": {
      "text/plain": [
       "array([    1,     2,     3, ..., 14094, 14095, 14096], dtype=uint16)"
      ]
     },
     "execution_count": 2,
     "metadata": {},
     "output_type": "execute_result"
    }
   ],
   "source": [
    "train_idxs"
   ]
  },
  {
   "cell_type": "code",
   "execution_count": 3,
   "metadata": {},
   "outputs": [
    {
     "data": {
      "text/plain": [
       "array([   22,    27,    49, ..., 14043, 14059, 14063], dtype=uint16)"
      ]
     },
     "execution_count": 3,
     "metadata": {},
     "output_type": "execute_result"
    }
   ],
   "source": [
    "query_idxs"
   ]
  },
  {
   "cell_type": "code",
   "execution_count": 4,
   "metadata": {},
   "outputs": [
    {
     "data": {
      "text/plain": [
       "array([   1,    1,    1, ..., 1467, 1467, 1467], dtype=uint16)"
      ]
     },
     "execution_count": 4,
     "metadata": {},
     "output_type": "execute_result"
    }
   ],
   "source": [
    "labels"
   ]
  },
  {
   "cell_type": "code",
   "execution_count": 5,
   "metadata": {},
   "outputs": [
    {
     "data": {
      "text/plain": [
       "array([   21,    23,    24, ..., 14062, 14064, 14065], dtype=uint16)"
      ]
     },
     "execution_count": 5,
     "metadata": {},
     "output_type": "execute_result"
    }
   ],
   "source": [
    "gallery_idxs"
   ]
  },
  {
   "cell_type": "code",
   "execution_count": 6,
   "metadata": {},
   "outputs": [
    {
     "data": {
      "text/plain": [
       "array([array(['1_001_1_01.png'], dtype='<U14'),\n",
       "       array(['1_001_1_02.png'], dtype='<U14'),\n",
       "       array(['1_001_1_03.png'], dtype='<U14'), ...,\n",
       "       array(['5_049_2_08.png'], dtype='<U14'),\n",
       "       array(['5_049_2_09.png'], dtype='<U14'),\n",
       "       array(['5_049_2_10.png'], dtype='<U14')], dtype=object)"
      ]
     },
     "execution_count": 6,
     "metadata": {},
     "output_type": "execute_result"
    }
   ],
   "source": [
    "filelist"
   ]
  },
  {
   "cell_type": "code",
   "execution_count": 7,
   "metadata": {},
   "outputs": [
    {
     "data": {
      "text/plain": [
       "array([1, 1, 1, ..., 2, 2, 2], dtype=uint8)"
      ]
     },
     "execution_count": 7,
     "metadata": {},
     "output_type": "execute_result"
    }
   ],
   "source": [
    "camId"
   ]
  },
  {
   "cell_type": "code",
   "execution_count": 8,
   "metadata": {},
   "outputs": [],
   "source": [
    "#grid searc cv against k, distance metric and transformation/normalization - use only query and gallery for this part "
   ]
  },
  {
   "cell_type": "code",
   "execution_count": 9,
   "metadata": {},
   "outputs": [],
   "source": [
    "\n",
    "X = np.array(features)\n",
    "y = np.array(labels)\n",
    "filelist = np.array(filelist)\n",
    "camId = np.array(camId)\n",
    "\n"
   ]
  },
  {
   "cell_type": "code",
   "execution_count": 10,
   "metadata": {},
   "outputs": [],
   "source": [
    "mask_train = np.array(train_idxs).ravel()\n",
    "mask_query = np.array(query_idxs).ravel()\n",
    "mask_gallery = np.array(gallery_idxs).ravel()\n",
    "\n",
    "mask_train = np.subtract(mask_train, 1)\n",
    "mask_query = np.subtract(mask_query, 1)\n",
    "mask_gallery = np.subtract(mask_gallery, 1)\n",
    "\n",
    "\n",
    "X_train, X_query, X_gallery = X[mask_train, :], X[mask_query, :], X[mask_gallery, :]\n",
    "y_train, y_query, y_gallery = y[mask_train], y[mask_query], y[mask_gallery]\n",
    "filelist_train, filelist_query, filelist_gallery = filelist[mask_train], filelist[mask_query], filelist[mask_gallery]\n",
    "camId_train, camId_query, camId_gallery = camId[mask_train], camId[mask_query], camId[mask_gallery]\n"
   ]
  },
  {
   "cell_type": "code",
   "execution_count": 43,
   "metadata": {
    "scrolled": false
   },
   "outputs": [
    {
     "name": "stdout",
     "output_type": "stream",
     "text": [
      "[0.47       0.66857143 0.74928571 0.83214286]\n"
     ]
    }
   ],
   "source": [
    "from scipy.spatial import distance\n",
    "\n",
    "rank_accuracies = []\n",
    "\n",
    "#q = 0\n",
    "#print (X_query.shape)\n",
    "\n",
    "for query, camId_q, y_q in zip(X_query, camId_query, y_query):\n",
    "    q_g_dists = []\n",
    "    y_valid = []\n",
    "    for gallery, camId_g, y_g  in zip(X_gallery, camId_gallery, y_gallery):\n",
    "        if ((camId_q == camId_g) and (y_q == y_g)):\n",
    "            continue\n",
    "        else:\n",
    "            dist = distance.euclidean(query, gallery)\n",
    "            q_g_dists.append(dist)\n",
    "            y_valid.append(y_g)\n",
    "    \n",
    "    q_g_dists = np.array(q_g_dists)\n",
    "    y_valid = np.array(y_valid)\n",
    "    \n",
    "    _indexes = np.argsort(q_g_dists)\n",
    "    \n",
    "    # Sorted distances and labels\n",
    "    q_g_dists, y_valid = q_g_dists[_indexes], y_valid[_indexes]\n",
    "    \n",
    "    \n",
    "    rank_1  = 0\n",
    "    rank_5  = 0\n",
    "    rank_10 = 0\n",
    "    rank_20 = 0  \n",
    "    \n",
    "    for k in range (20):\n",
    "        \n",
    "        if (y_valid[k] == y_q):\n",
    "            if (k < 1):\n",
    "                rank_1  = 1\n",
    "            if (k < 5):\n",
    "                rank_5 = 1\n",
    "            if (k < 10):\n",
    "                rank_10 = 1\n",
    "            if (k < 20):\n",
    "                rank_20 = 1\n",
    "    \n",
    "    rank_accuracies.append((rank_1, rank_5, rank_10, rank_20))\n",
    "    \n",
    "#    if q  > 20:\n",
    "#        break\n",
    "#    q = q+1\n",
    "    \n",
    "\n",
    "    \n",
    "rank_accuracies = np.array(rank_accuracies)\n",
    "\n",
    "total = rank_accuracies.shape[0]\n",
    "rank_accuracies = rank_accuracies.sum(axis = 0)\n",
    "rank_accuracies = np.divide(rank_accuracies, total)\n",
    "\n",
    "print (rank_accuracies)\n",
    "\n",
    "#rank_accuracies = np.array([[1, 0, 0, 0],\n",
    "# [1, 0, 0, 0],\n",
    "# [0, 1, 0, 0],\n",
    "# [0, 0, 1, 1],\n",
    "# [0, 0, 0, 0]])\n",
    "#print(rank_accuracies.shape)\n",
    "#print(rank_accuracies)\n",
    "#total = rank_accuracies.shape[0]\n",
    "#rank_accuracies = rank_accuracies.sum(axis = 0)\n",
    "#rank_accuracies = np.divide(rank_accuracies, total)\n",
    "#print(rank_accuracies.shape)\n",
    "#print(rank_accuracies)\n",
    "    \n",
    "        \n",
    "    "
   ]
  },
  {
   "cell_type": "code",
   "execution_count": null,
   "metadata": {},
   "outputs": [],
   "source": []
  }
 ],
 "metadata": {
  "kernelspec": {
   "display_name": "Python 3",
   "language": "python",
   "name": "python3"
  },
  "language_info": {
   "codemirror_mode": {
    "name": "ipython",
    "version": 3
   },
   "file_extension": ".py",
   "mimetype": "text/x-python",
   "name": "python",
   "nbconvert_exporter": "python",
   "pygments_lexer": "ipython3",
   "version": "3.6.4"
  }
 },
 "nbformat": 4,
 "nbformat_minor": 2
}
