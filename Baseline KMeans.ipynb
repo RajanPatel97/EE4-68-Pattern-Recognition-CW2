{
 "cells": [
  {
   "cell_type": "code",
   "execution_count": 1,
   "metadata": {},
   "outputs": [],
   "source": [
    "import numpy as np\n",
    "\n",
    "import seaborn as sns\n",
    "import matplotlib\n",
    "import matplotlib.pyplot as plt\n",
    "\n",
    "#Store Data Variables\n",
    "import json\n",
    "with open('feature_data.json', 'r') as f:\n",
    " features = json.load(f)\n",
    "\n",
    "from scipy.io import loadmat\n",
    "train_idxs = loadmat('cuhk03_new_protocol_config_labeled.mat')['train_idx'].flatten()\n",
    "query_idxs = loadmat('cuhk03_new_protocol_config_labeled.mat')['query_idx'].flatten()\n",
    "labels = loadmat('cuhk03_new_protocol_config_labeled.mat')['labels'].flatten()\n",
    "gallery_idxs = loadmat('cuhk03_new_protocol_config_labeled.mat')['gallery_idx'].flatten()\n",
    "filelist = loadmat('cuhk03_new_protocol_config_labeled.mat')['filelist'].flatten()\n",
    "camId = loadmat('cuhk03_new_protocol_config_labeled.mat')['camId'].flatten()"
   ]
  },
  {
   "cell_type": "code",
   "execution_count": 2,
   "metadata": {},
   "outputs": [
    {
     "data": {
      "text/plain": [
       "array([    1,     2,     3, ..., 14094, 14095, 14096], dtype=uint16)"
      ]
     },
     "execution_count": 2,
     "metadata": {},
     "output_type": "execute_result"
    }
   ],
   "source": [
    "train_idxs"
   ]
  },
  {
   "cell_type": "code",
   "execution_count": 3,
   "metadata": {},
   "outputs": [
    {
     "data": {
      "text/plain": [
       "array([   22,    27,    49, ..., 14043, 14059, 14063], dtype=uint16)"
      ]
     },
     "execution_count": 3,
     "metadata": {},
     "output_type": "execute_result"
    }
   ],
   "source": [
    "query_idxs"
   ]
  },
  {
   "cell_type": "code",
   "execution_count": 4,
   "metadata": {},
   "outputs": [
    {
     "data": {
      "text/plain": [
       "array([   1,    1,    1, ..., 1467, 1467, 1467], dtype=uint16)"
      ]
     },
     "execution_count": 4,
     "metadata": {},
     "output_type": "execute_result"
    }
   ],
   "source": [
    "labels"
   ]
  },
  {
   "cell_type": "code",
   "execution_count": 5,
   "metadata": {},
   "outputs": [
    {
     "data": {
      "text/plain": [
       "array([   21,    23,    24, ..., 14062, 14064, 14065], dtype=uint16)"
      ]
     },
     "execution_count": 5,
     "metadata": {},
     "output_type": "execute_result"
    }
   ],
   "source": [
    "gallery_idxs"
   ]
  },
  {
   "cell_type": "code",
   "execution_count": 6,
   "metadata": {},
   "outputs": [
    {
     "data": {
      "text/plain": [
       "array([array(['1_001_1_01.png'], dtype='<U14'),\n",
       "       array(['1_001_1_02.png'], dtype='<U14'),\n",
       "       array(['1_001_1_03.png'], dtype='<U14'), ...,\n",
       "       array(['5_049_2_08.png'], dtype='<U14'),\n",
       "       array(['5_049_2_09.png'], dtype='<U14'),\n",
       "       array(['5_049_2_10.png'], dtype='<U14')], dtype=object)"
      ]
     },
     "execution_count": 6,
     "metadata": {},
     "output_type": "execute_result"
    }
   ],
   "source": [
    "filelist"
   ]
  },
  {
   "cell_type": "code",
   "execution_count": 7,
   "metadata": {},
   "outputs": [
    {
     "data": {
      "text/plain": [
       "array([1, 1, 1, ..., 2, 2, 2], dtype=uint8)"
      ]
     },
     "execution_count": 7,
     "metadata": {},
     "output_type": "execute_result"
    }
   ],
   "source": [
    "camId"
   ]
  },
  {
   "cell_type": "code",
   "execution_count": 8,
   "metadata": {},
   "outputs": [],
   "source": [
    "#grid searc cv against k, distance metric and transformation/normalization - use only query and gallery for this part "
   ]
  },
  {
   "cell_type": "code",
   "execution_count": 9,
   "metadata": {},
   "outputs": [],
   "source": [
    "\n",
    "X = np.array(features)\n",
    "y = np.array(labels)\n",
    "filelist = np.array(filelist)\n",
    "camId = np.array(camId)\n",
    "\n"
   ]
  },
  {
   "cell_type": "code",
   "execution_count": 10,
   "metadata": {},
   "outputs": [],
   "source": [
    "mask_train = np.array(train_idxs).ravel()\n",
    "mask_query = np.array(query_idxs).ravel()\n",
    "mask_gallery = np.array(gallery_idxs).ravel()\n",
    "\n",
    "mask_train = np.subtract(mask_train, 1)\n",
    "mask_query = np.subtract(mask_query, 1)\n",
    "mask_gallery = np.subtract(mask_gallery, 1)\n",
    "\n",
    "\n",
    "X_train, X_query, X_gallery = X[mask_train, :], X[mask_query, :], X[mask_gallery, :]\n",
    "y_train, y_query, y_gallery = y[mask_train], y[mask_query], y[mask_gallery]\n",
    "filelist_train, filelist_query, filelist_gallery = filelist[mask_train], filelist[mask_query], filelist[mask_gallery]\n",
    "camId_train, camId_query, camId_gallery = camId[mask_train], camId[mask_query], camId[mask_gallery]\n"
   ]
  },
  {
   "cell_type": "code",
   "execution_count": 11,
   "metadata": {},
   "outputs": [],
   "source": [
    "def get_acc_score(y_valid, y_q, tot_label_occur):\n",
    "    recall = 0\n",
    "    true_positives = 0\n",
    "    \n",
    "    k = 0\n",
    "    \n",
    "    max_rank = 30\n",
    "    \n",
    "    rank_A = np.zeros(max_rank)\n",
    "    AP_arr = np.zeros(11)\n",
    "    \n",
    "    while (recall < 1) or (k < max_rank):\n",
    "        \n",
    "        if (y_valid[k] == y_q):\n",
    "            \n",
    "            true_positives = true_positives + 1\n",
    "            recall = true_positives/tot_label_occur\n",
    "            precision = true_positives/(k+1)\n",
    "            \n",
    "            AP_arr[round((recall-0.05)*10)] = precision\n",
    "            \n",
    "            for n in range (k, max_rank):\n",
    "                rank_A[n] = 1\n",
    "            \n",
    "        k = k+1\n",
    "        \n",
    "    max_precision = 0\n",
    "    for i in range(10, -1, -1):\n",
    "        max_precision = max(max_precision, AP_arr[i])\n",
    "        AP_arr[i] = max_precision\n",
    "    \n",
    "    AP_ = AP_arr.sum()/11\n",
    "    \n",
    "    return AP_, rank_A"
   ]
  },
  {
   "cell_type": "code",
   "execution_count": 12,
   "metadata": {},
   "outputs": [],
   "source": [
    "from scipy.spatial import distance\n",
    "\n",
    "def evaluate_metric(X_query, camId_query, y_query, X_gallery, camId_gallery, y_gallery, metric = 'euclidian', parameters = None):\n",
    "\n",
    "    rank_accuracies = []\n",
    "    AP = []\n",
    "\n",
    "    # Break condition for testing\n",
    "    #q = 0\n",
    "\n",
    "    for query, camId_q, y_q in zip(X_query, camId_query, y_query):\n",
    "        q_g_dists = []\n",
    "        y_valid = []\n",
    "        for gallery, camId_g, y_g  in zip(X_gallery, camId_gallery, y_gallery):\n",
    "            if ((camId_q == camId_g) and (y_q == y_g)):\n",
    "                continue\n",
    "            else:\n",
    "                if metric == 'euclidian':\n",
    "                    dist = distance.euclidean(query, gallery)\n",
    "                elif metric == 'sqeuclidean':\n",
    "                    dist = distance.sqeuclidean(query, gallery)\n",
    "                elif metric == 'seuclidean':\n",
    "                    dist = distance.seuclidean(query, gallery)\n",
    "                elif metric == 'minkowski':\n",
    "                    dist = distance.minkowski(query, gallery, parameters)\n",
    "                elif metric == 'chebyshev':\n",
    "                    dist = distance.chebyshev(query, gallery)\n",
    "                elif metric == 'braycurtis':\n",
    "                    dist = distance.braycurtis(query, gallery)\n",
    "                elif metric == 'canberra':\n",
    "                    dist = distance.canberra(query, gallery)\n",
    "                elif metric == 'cosine':\n",
    "                    dist = distance.cosine(query, gallery)\n",
    "                elif metric == 'correlation':\n",
    "                    dist = distance.correlation(query, gallery)\n",
    "                elif metric == 'mahalanobis':\n",
    "                    dist = distance.mahalanobis(query, gallery, parameters)\n",
    "                else:\n",
    "                    raise NameError('Specified metric not supported')           \n",
    "                q_g_dists.append(dist)\n",
    "                y_valid.append(y_g)\n",
    "    \n",
    "        tot_label_occur = y_valid.count(y_q)\n",
    "    \n",
    "        q_g_dists = np.array(q_g_dists)\n",
    "        y_valid = np.array(y_valid)\n",
    "    \n",
    "        _indexes = np.argsort(q_g_dists)\n",
    "    \n",
    "        # Sorted distances and labels\n",
    "        q_g_dists, y_valid = q_g_dists[_indexes], y_valid[_indexes]\n",
    "    \n",
    "        AP_, rank_A = get_acc_score(y_valid, y_q, tot_label_occur)\n",
    "    \n",
    "        AP.append(AP_)\n",
    "        \n",
    "        rank_accuracies.append(rank_A)\n",
    "    \n",
    "        #if q  > 5:\n",
    "        #    break\n",
    "        #q = q+1\n",
    "\n",
    "    rank_accuracies = np.array(rank_accuracies)\n",
    "\n",
    "    total = rank_accuracies.shape[0]\n",
    "    rank_accuracies = rank_accuracies.sum(axis = 0)\n",
    "    rank_accuracies = np.divide(rank_accuracies, total)\n",
    "\n",
    "    i = 0\n",
    "    print ('Accuracies by Rank:')\n",
    "    while i < rank_accuracies.shape[0]:\n",
    "        print('Rank ', i+1, ' = %.2f%%' % (rank_accuracies[i] * 100), '\\t',\n",
    "              'Rank ', i+2, ' = %.2f%%' % (rank_accuracies[i+1] * 100), '\\t',\n",
    "              'Rank ', i+3, ' = %.2f%%' % (rank_accuracies[i+2] * 100), '\\t',\n",
    "              'Rank ', i+4, ' = %.2f%%' % (rank_accuracies[i+3] * 100), '\\t',\n",
    "              'Rank ', i+5, ' = %.2f%%' % (rank_accuracies[i+4] * 100))\n",
    "        i = i+5\n",
    "\n",
    "    AP = np.array(AP)\n",
    "\n",
    "    mAP = AP.sum()/AP.shape[0]\n",
    "    print('mAP = %.2f%%' % (mAP * 100))\n",
    "    \n",
    "    return rank_accuracies, mAP\n",
    "\n",
    "    \n",
    "        \n",
    "    "
   ]
  },
  {
   "cell_type": "code",
   "execution_count": 13,
   "metadata": {},
   "outputs": [
    {
     "name": "stdout",
     "output_type": "stream",
     "text": [
      "Accuracies by Rank:\n",
      "Rank  1  = 47.00% \t Rank  2  = 54.57% \t Rank  3  = 59.64% \t Rank  4  = 63.93% \t Rank  5  = 66.86%\n",
      "Rank  6  = 69.29% \t Rank  7  = 71.14% \t Rank  8  = 72.36% \t Rank  9  = 73.71% \t Rank  10  = 74.93%\n",
      "Rank  11  = 75.86% \t Rank  12  = 76.79% \t Rank  13  = 77.71% \t Rank  14  = 78.50% \t Rank  15  = 79.07%\n",
      "Rank  16  = 79.86% \t Rank  17  = 80.64% \t Rank  18  = 81.57% \t Rank  19  = 82.29% \t Rank  20  = 83.21%\n",
      "Rank  21  = 83.50% \t Rank  22  = 83.71% \t Rank  23  = 84.00% \t Rank  24  = 84.29% \t Rank  25  = 84.79%\n",
      "Rank  26  = 85.29% \t Rank  27  = 85.64% \t Rank  28  = 85.93% \t Rank  29  = 86.07% \t Rank  30  = 86.36%\n",
      "mAP = 46.57%\n"
     ]
    }
   ],
   "source": [
    "# Baseline Euclidian\n",
    "\n",
    "import time\n",
    "\n",
    "start = time.time()\n",
    "\n",
    "rank_accuracies, mAP = evaluate_metric(X_query, camId_query, y_query,\n",
    "                                       X_gallery, camId_gallery, y_gallery,\n",
    "                                       metric = 'euclidian',\n",
    "                                       parameters = None)\n",
    "\n",
    "end = time.time()\n",
    "time_knn_base = end-start\n"
   ]
  },
  {
   "cell_type": "code",
   "execution_count": 14,
   "metadata": {
    "scrolled": false
   },
   "outputs": [],
   "source": [
    "from scipy.spatial import distance\n",
    "from sklearn.cluster import KMeans\n",
    "\n",
    "def evaluate_metric_kmeans(X_query, camId_query, y_query, X_gallery, camId_gallery, y_gallery, metric = 'euclidian', parameters = None):\n",
    "\n",
    "    rank_accuracies = []\n",
    "    AP = []\n",
    "\n",
    "    # Break condition for testing\n",
    "    #q = 0\n",
    "    \n",
    "    max_rank = 30\n",
    "    \n",
    "    kmeans = KMeans(n_clusters=parameters, random_state=0)\n",
    "    cntr_labels = kmeans.fit_predict(X_gallery)\n",
    "    centers = kmeans.cluster_centers_\n",
    "\n",
    "    for query, camId_q, y_q in zip(X_query, camId_query, y_query):\n",
    "        q_g_dists = []\n",
    "        y_valid = []\n",
    "        q_center_dists = []\n",
    "        c_dist_labels = []\n",
    "        for i, center in enumerate(centers):\n",
    "            dist = distance.euclidean(query, center)\n",
    "            q_center_dists.append(dist)\n",
    "            c_dist_labels.append(i)\n",
    "        \n",
    "        q_center_dists = np.array(q_center_dists)\n",
    "        c_dist_labels = np.array(c_dist_labels)\n",
    "    \n",
    "        _indexes = np.argsort(q_center_dists)\n",
    "    \n",
    "        # Sorted distances and labels\n",
    "        q_center_dists, c_dist_labels = q_center_dists[_indexes], c_dist_labels[_indexes]\n",
    "        \n",
    "        k = 0\n",
    "        center_index = 0\n",
    "        \n",
    "        while k < max_rank:\n",
    "\n",
    "            for gallery, cntr_label, camId_g, y_g  in zip(X_gallery, cntr_labels, camId_gallery, y_gallery):\n",
    "                if ((camId_q == camId_g) and (y_q == y_g)):\n",
    "                    continue\n",
    "                elif cntr_label == c_dist_labels[center_index]:\n",
    "                    if metric == 'euclidian':\n",
    "                        dist = distance.euclidean(query, gallery)\n",
    "                    else:\n",
    "                        raise NameError('Specified metric not supported')           \n",
    "                    q_g_dists.append(dist)\n",
    "                    y_valid.append(y_g)\n",
    "                    k = k+1\n",
    "            \n",
    "            center_index = center_index +1\n",
    "    \n",
    "        tot_label_occur = y_valid.count(y_q)\n",
    "    \n",
    "        q_g_dists = np.array(q_g_dists)\n",
    "        y_valid = np.array(y_valid)\n",
    "    \n",
    "        _indexes = np.argsort(q_g_dists)\n",
    "    \n",
    "        # Sorted distances and labels\n",
    "        q_g_dists, y_valid = q_g_dists[_indexes], y_valid[_indexes]\n",
    "    \n",
    "        if tot_label_occur != 0:\n",
    "    \n",
    "            AP_, rank_A = get_acc_score(y_valid, y_q, tot_label_occur)\n",
    "\n",
    "            AP.append(AP_)\n",
    "\n",
    "            rank_accuracies.append(rank_A)\n",
    "    \n",
    "        #if q  > 5:\n",
    "        #    break\n",
    "        #q = q+1\n",
    "\n",
    "    rank_accuracies = np.array(rank_accuracies)\n",
    "\n",
    "    total = rank_accuracies.shape[0]\n",
    "    rank_accuracies = rank_accuracies.sum(axis = 0)\n",
    "    rank_accuracies = np.divide(rank_accuracies, total)\n",
    "\n",
    "    i = 0\n",
    "    print ('Accuracies by Rank:')\n",
    "    while i < rank_accuracies.shape[0]:\n",
    "        print('Rank ', i+1, ' = %.2f%%' % (rank_accuracies[i] * 100), '\\t',\n",
    "              'Rank ', i+2, ' = %.2f%%' % (rank_accuracies[i+1] * 100), '\\t',\n",
    "              'Rank ', i+3, ' = %.2f%%' % (rank_accuracies[i+2] * 100), '\\t',\n",
    "              'Rank ', i+4, ' = %.2f%%' % (rank_accuracies[i+3] * 100), '\\t',\n",
    "              'Rank ', i+5, ' = %.2f%%' % (rank_accuracies[i+4] * 100))\n",
    "        i = i+5\n",
    "\n",
    "    AP = np.array(AP)\n",
    "\n",
    "    mAP = AP.sum()/AP.shape[0]\n",
    "    print('mAP = %.2f%%' % (mAP * 100))\n",
    "    \n",
    "    return rank_accuracies, mAP\n",
    "\n",
    "    \n",
    "        \n",
    "    "
   ]
  },
  {
   "cell_type": "code",
   "execution_count": 17,
   "metadata": {
    "scrolled": false
   },
   "outputs": [
    {
     "name": "stdout",
     "output_type": "stream",
     "text": [
      "For num_clusters =  1\n",
      "Accuracies by Rank:\n",
      "Rank  1  = 47.00% \t Rank  2  = 54.57% \t Rank  3  = 59.64% \t Rank  4  = 63.93% \t Rank  5  = 66.86%\n",
      "Rank  6  = 69.29% \t Rank  7  = 71.14% \t Rank  8  = 72.36% \t Rank  9  = 73.71% \t Rank  10  = 74.93%\n",
      "Rank  11  = 75.86% \t Rank  12  = 76.79% \t Rank  13  = 77.71% \t Rank  14  = 78.50% \t Rank  15  = 79.07%\n",
      "Rank  16  = 79.86% \t Rank  17  = 80.64% \t Rank  18  = 81.57% \t Rank  19  = 82.29% \t Rank  20  = 83.21%\n",
      "Rank  21  = 83.50% \t Rank  22  = 83.71% \t Rank  23  = 84.00% \t Rank  24  = 84.29% \t Rank  25  = 84.79%\n",
      "Rank  26  = 85.29% \t Rank  27  = 85.64% \t Rank  28  = 85.93% \t Rank  29  = 86.07% \t Rank  30  = 86.36%\n",
      "mAP = 46.57%\n",
      "For num_clusters =  2\n",
      "Accuracies by Rank:\n",
      "Rank  1  = 48.49% \t Rank  2  = 56.33% \t Rank  3  = 61.31% \t Rank  4  = 65.76% \t Rank  5  = 68.85%\n",
      "Rank  6  = 71.57% \t Rank  7  = 73.30% \t Rank  8  = 74.36% \t Rank  9  = 75.72% \t Rank  10  = 76.92%\n",
      "Rank  11  = 77.83% \t Rank  12  = 78.96% \t Rank  13  = 79.56% \t Rank  14  = 80.39% \t Rank  15  = 81.07%\n",
      "Rank  16  = 81.75% \t Rank  17  = 82.58% \t Rank  18  = 83.11% \t Rank  19  = 84.09% \t Rank  20  = 84.69%\n",
      "Rank  21  = 84.77% \t Rank  22  = 84.99% \t Rank  23  = 85.29% \t Rank  24  = 85.75% \t Rank  25  = 86.20%\n",
      "Rank  26  = 86.73% \t Rank  27  = 87.25% \t Rank  28  = 87.56% \t Rank  29  = 87.56% \t Rank  30  = 87.78%\n",
      "mAP = 48.63%\n",
      "For num_clusters =  4\n",
      "Accuracies by Rank:\n",
      "Rank  1  = 49.12% \t Rank  2  = 57.53% \t Rank  3  = 63.14% \t Rank  4  = 67.15% \t Rank  5  = 70.27%\n",
      "Rank  6  = 72.60% \t Rank  7  = 75.24% \t Rank  8  = 76.28% \t Rank  9  = 77.80% \t Rank  10  = 79.01%\n",
      "Rank  11  = 80.29% \t Rank  12  = 81.09% \t Rank  13  = 81.73% \t Rank  14  = 82.61% \t Rank  15  = 83.25%\n",
      "Rank  16  = 84.21% \t Rank  17  = 84.86% \t Rank  18  = 85.42% \t Rank  19  = 86.06% \t Rank  20  = 86.62%\n",
      "Rank  21  = 86.86% \t Rank  22  = 87.50% \t Rank  23  = 87.98% \t Rank  24  = 88.30% \t Rank  25  = 88.70%\n",
      "Rank  26  = 89.26% \t Rank  27  = 89.58% \t Rank  28  = 89.82% \t Rank  29  = 89.90% \t Rank  30  = 90.22%\n",
      "mAP = 50.57%\n",
      "For num_clusters =  8\n",
      "Accuracies by Rank:\n",
      "Rank  1  = 52.69% \t Rank  2  = 60.95% \t Rank  3  = 66.58% \t Rank  4  = 69.99% \t Rank  5  = 73.06%\n",
      "Rank  6  = 75.19% \t Rank  7  = 77.07% \t Rank  8  = 78.35% \t Rank  9  = 79.97% \t Rank  10  = 80.90%\n",
      "Rank  11  = 81.76% \t Rank  12  = 82.61% \t Rank  13  = 83.72% \t Rank  14  = 84.40% \t Rank  15  = 85.00%\n",
      "Rank  16  = 86.02% \t Rank  17  = 86.62% \t Rank  18  = 87.04% \t Rank  19  = 87.72% \t Rank  20  = 88.06%\n",
      "Rank  21  = 88.32% \t Rank  22  = 88.75% \t Rank  23  = 89.26% \t Rank  24  = 89.51% \t Rank  25  = 89.94%\n",
      "Rank  26  = 90.37% \t Rank  27  = 90.62% \t Rank  28  = 90.79% \t Rank  29  = 90.96% \t Rank  30  = 91.30%\n",
      "mAP = 53.66%\n",
      "For num_clusters =  16\n",
      "Accuracies by Rank:\n",
      "Rank  1  = 54.66% \t Rank  2  = 63.69% \t Rank  3  = 69.65% \t Rank  4  = 73.09% \t Rank  5  = 75.70%\n",
      "Rank  6  = 78.12% \t Rank  7  = 79.52% \t Rank  8  = 81.19% \t Rank  9  = 82.68% \t Rank  10  = 83.71%\n",
      "Rank  11  = 84.82% \t Rank  12  = 86.03% \t Rank  13  = 86.69% \t Rank  14  = 87.34% \t Rank  15  = 87.62%\n",
      "Rank  16  = 88.18% \t Rank  17  = 88.73% \t Rank  18  = 89.29% \t Rank  19  = 89.76% \t Rank  20  = 90.04%\n",
      "Rank  21  = 90.60% \t Rank  22  = 90.97% \t Rank  23  = 91.25% \t Rank  24  = 91.62% \t Rank  25  = 91.90%\n",
      "Rank  26  = 92.18% \t Rank  27  = 92.27% \t Rank  28  = 92.64% \t Rank  29  = 92.83% \t Rank  30  = 93.20%\n",
      "mAP = 56.80%\n",
      "For num_clusters =  32\n",
      "Accuracies by Rank:\n",
      "Rank  1  = 54.44% \t Rank  2  = 64.30% \t Rank  3  = 70.41% \t Rank  4  = 75.05% \t Rank  5  = 78.30%\n",
      "Rank  6  = 81.36% \t Rank  7  = 82.84% \t Rank  8  = 84.22% \t Rank  9  = 85.50% \t Rank  10  = 86.39%\n",
      "Rank  11  = 87.18% \t Rank  12  = 88.26% \t Rank  13  = 88.56% \t Rank  14  = 89.15% \t Rank  15  = 89.64%\n",
      "Rank  16  = 90.14% \t Rank  17  = 90.63% \t Rank  18  = 91.03% \t Rank  19  = 91.72% \t Rank  20  = 92.41%\n",
      "Rank  21  = 92.60% \t Rank  22  = 92.90% \t Rank  23  = 93.39% \t Rank  24  = 93.79% \t Rank  25  = 94.08%\n",
      "Rank  26  = 94.28% \t Rank  27  = 94.38% \t Rank  28  = 94.67% \t Rank  29  = 94.77% \t Rank  30  = 95.17%\n",
      "mAP = 58.12%\n",
      "For num_clusters =  64\n",
      "Accuracies by Rank:\n",
      "Rank  1  = 59.59% \t Rank  2  = 68.76% \t Rank  3  = 74.54% \t Rank  4  = 78.35% \t Rank  5  = 80.93%\n",
      "Rank  6  = 84.02% \t Rank  7  = 85.77% \t Rank  8  = 87.53% \t Rank  9  = 88.87% \t Rank  10  = 90.31%\n",
      "Rank  11  = 90.52% \t Rank  12  = 91.13% \t Rank  13  = 91.65% \t Rank  14  = 92.27% \t Rank  15  = 92.89%\n",
      "Rank  16  = 93.20% \t Rank  17  = 93.61% \t Rank  18  = 94.02% \t Rank  19  = 94.33% \t Rank  20  = 94.74%\n",
      "Rank  21  = 95.05% \t Rank  22  = 95.57% \t Rank  23  = 95.88% \t Rank  24  = 96.19% \t Rank  25  = 96.49%\n",
      "Rank  26  = 97.01% \t Rank  27  = 97.01% \t Rank  28  = 97.42% \t Rank  29  = 97.53% \t Rank  30  = 97.94%\n",
      "mAP = 63.81%\n",
      "For num_clusters =  128\n",
      "Accuracies by Rank:\n",
      "Rank  1  = 63.19% \t Rank  2  = 72.02% \t Rank  3  = 78.09% \t Rank  4  = 81.81% \t Rank  5  = 84.26%\n",
      "Rank  6  = 86.17% \t Rank  7  = 88.09% \t Rank  8  = 89.57% \t Rank  9  = 90.53% \t Rank  10  = 91.70%\n",
      "Rank  11  = 92.77% \t Rank  12  = 93.40% \t Rank  13  = 93.62% \t Rank  14  = 94.04% \t Rank  15  = 94.79%\n",
      "Rank  16  = 95.74% \t Rank  17  = 95.96% \t Rank  18  = 96.60% \t Rank  19  = 96.91% \t Rank  20  = 97.23%\n",
      "Rank  21  = 97.66% \t Rank  22  = 97.98% \t Rank  23  = 98.19% \t Rank  24  = 98.30% \t Rank  25  = 98.51%\n",
      "Rank  26  = 98.83% \t Rank  27  = 98.94% \t Rank  28  = 99.04% \t Rank  29  = 99.04% \t Rank  30  = 99.15%\n",
      "mAP = 66.24%\n",
      "For num_clusters =  256\n",
      "Accuracies by Rank:\n",
      "Rank  1  = 61.19% \t Rank  2  = 69.55% \t Rank  3  = 75.60% \t Rank  4  = 80.60% \t Rank  5  = 83.19%\n",
      "Rank  6  = 86.17% \t Rank  7  = 88.57% \t Rank  8  = 89.91% \t Rank  9  = 91.07% \t Rank  10  = 92.12%\n",
      "Rank  11  = 93.08% \t Rank  12  = 93.66% \t Rank  13  = 93.85% \t Rank  14  = 94.33% \t Rank  15  = 95.29%\n",
      "Rank  16  = 95.58% \t Rank  17  = 95.87% \t Rank  18  = 96.35% \t Rank  19  = 96.54% \t Rank  20  = 96.83%\n",
      "Rank  21  = 97.12% \t Rank  22  = 97.60% \t Rank  23  = 98.17% \t Rank  24  = 98.27% \t Rank  25  = 98.46%\n",
      "Rank  26  = 98.66% \t Rank  27  = 98.85% \t Rank  28  = 98.94% \t Rank  29  = 99.23% \t Rank  30  = 99.33%\n",
      "mAP = 64.10%\n",
      "For num_clusters =  512\n",
      "Accuracies by Rank:\n",
      "Rank  1  = 60.51% \t Rank  2  = 69.61% \t Rank  3  = 76.07% \t Rank  4  = 79.89% \t Rank  5  = 83.35%\n",
      "Rank  6  = 86.26% \t Rank  7  = 88.35% \t Rank  8  = 89.90% \t Rank  9  = 91.08% \t Rank  10  = 92.45%\n",
      "Rank  11  = 93.27% \t Rank  12  = 94.18% \t Rank  13  = 94.90% \t Rank  14  = 95.63% \t Rank  15  = 96.36%\n",
      "Rank  16  = 96.45% \t Rank  17  = 97.36% \t Rank  18  = 97.73% \t Rank  19  = 98.00% \t Rank  20  = 98.27%\n",
      "Rank  21  = 98.54% \t Rank  22  = 98.82% \t Rank  23  = 98.82% \t Rank  24  = 98.91% \t Rank  25  = 99.00%\n",
      "Rank  26  = 99.18% \t Rank  27  = 99.27% \t Rank  28  = 99.36% \t Rank  29  = 99.45% \t Rank  30  = 99.64%\n",
      "mAP = 63.01%\n",
      "For num_clusters =  1024\n",
      "Accuracies by Rank:\n",
      "Rank  1  = 59.05% \t Rank  2  = 68.82% \t Rank  3  = 75.45% \t Rank  4  = 80.11% \t Rank  5  = 84.05%\n",
      "Rank  6  = 86.74% \t Rank  7  = 88.62% \t Rank  8  = 89.87% \t Rank  9  = 91.49% \t Rank  10  = 92.38%\n",
      "Rank  11  = 93.37% \t Rank  12  = 94.09% \t Rank  13  = 95.16% \t Rank  14  = 95.88% \t Rank  15  = 96.24%\n",
      "Rank  16  = 96.59% \t Rank  17  = 97.13% \t Rank  18  = 97.40% \t Rank  19  = 97.76% \t Rank  20  = 97.76%\n",
      "Rank  21  = 97.85% \t Rank  22  = 98.03% \t Rank  23  = 98.21% \t Rank  24  = 98.39% \t Rank  25  = 98.84%\n",
      "Rank  26  = 99.19% \t Rank  27  = 99.28% \t Rank  28  = 99.37% \t Rank  29  = 99.46% \t Rank  30  = 99.73%\n",
      "mAP = 60.97%\n",
      "For num_clusters =  2048\n",
      "Accuracies by Rank:\n",
      "Rank  1  = 57.16% \t Rank  2  = 66.35% \t Rank  3  = 72.59% \t Rank  4  = 77.88% \t Rank  5  = 81.53%\n",
      "Rank  6  = 84.39% \t Rank  7  = 86.47% \t Rank  8  = 87.86% \t Rank  9  = 89.77% \t Rank  10  = 90.98%\n",
      "Rank  11  = 91.93% \t Rank  12  = 93.06% \t Rank  13  = 94.28% \t Rank  14  = 94.97% \t Rank  15  = 95.84%\n",
      "Rank  16  = 96.79% \t Rank  17  = 97.66% \t Rank  18  = 98.35% \t Rank  19  = 98.79% \t Rank  20  = 99.13%\n",
      "Rank  21  = 99.31% \t Rank  22  = 99.48% \t Rank  23  = 99.48% \t Rank  24  = 99.57% \t Rank  25  = 99.74%\n",
      "Rank  26  = 99.74% \t Rank  27  = 99.74% \t Rank  28  = 99.83% \t Rank  29  = 99.83% \t Rank  30  = 99.91%\n",
      "mAP = 59.06%\n"
     ]
    }
   ],
   "source": [
    "# Baseline Euclidian with KMeans\n",
    "\n",
    "import time\n",
    "\n",
    "num_clusters = 1\n",
    "\n",
    "rank_accuracies_l = []\n",
    "mAP_l = []\n",
    "num_clusters_l = []\n",
    "time_l = []\n",
    "\n",
    "while num_clusters < 2049:\n",
    "    print ('For num_clusters = ', num_clusters)\n",
    "    start = time.time()\n",
    "    rank_accuracies, mAP = evaluate_metric_kmeans(X_query, camId_query, y_query,\n",
    "                                                  X_gallery, camId_gallery, y_gallery,\n",
    "                                                  metric ='euclidian',\n",
    "                                                  parameters = num_clusters)\n",
    "    \n",
    "    end = time.time()\n",
    "    time_l.append(end-start)\n",
    "    rank_accuracies_l.append(rank_accuracies)\n",
    "    num_clusters_l.append(num_clusters)\n",
    "    mAP_l.append(mAP)\n",
    "    \n",
    "    num_clusters = num_clusters*2\n",
    "\n"
   ]
  },
  {
   "cell_type": "code",
   "execution_count": null,
   "metadata": {},
   "outputs": [],
   "source": []
  },
  {
   "cell_type": "code",
   "execution_count": 21,
   "metadata": {},
   "outputs": [
    {
     "data": {
      "text/plain": [
       "<matplotlib.legend.Legend at 0x1a2b51af28>"
      ]
     },
     "execution_count": 21,
     "metadata": {},
     "output_type": "execute_result"
    },
    {
     "data": {
      "image/png": "[encoded data removed]",
      "text/plain": [
       "<matplotlib.figure.Figure at 0x1a2b42d358>"
      ]
     },
     "metadata": {},
     "output_type": "display_data"
    }
   ],
   "source": [
    "plt.figure(figsize=(8.0, 6.0))\n",
    "color_list = ['green', 'blue', 'red', 'purple', 'orange', 'magenta', 'cyan', 'black', 'indianred', 'lightseagreen', 'gold', 'lightgreen']\n",
    "for i in range(len(num_clusters_l)):\n",
    "    plt.plot(np.arange(1, 31), 100*rank_accuracies_l[i], color=color_list[i], linestyle='dashed', label='k = '+str(num_clusters_l[i]))\n",
    "plt.plot(np.arange(1, 31), 100*rank_accuracies_l[0], color='darkorange', linestyle=':', label='kNN baseline')\n",
    "plt.title('CMC Curves for a range of number of clusters (k)')\n",
    "plt.xlabel('Rank')\n",
    "plt.ylabel('Recogniton Accuracy / %')\n",
    "plt.legend(loc='best')"
   ]
  },
  {
   "cell_type": "code",
   "execution_count": 25,
   "metadata": {},
   "outputs": [
    {
     "data": {
      "text/plain": [
       "<matplotlib.legend.Legend at 0x1a5b15a860>"
      ]
     },
     "execution_count": 25,
     "metadata": {},
     "output_type": "execute_result"
    },
    {
     "data": {
      "image/png": "[encoded data removed]",
      "text/plain": [
       "<matplotlib.figure.Figure at 0x1a5ac8ed30>"
      ]
     },
     "metadata": {},
     "output_type": "display_data"
    }
   ],
   "source": [
    "import seaborn as sns\n",
    "\n",
    "Ms = np.arange(1,416)\n",
    "\n",
    "plt.figure()\n",
    "# plt.plot(Ms, train_dur)\n",
    "sns.regplot(x=np.array(num_clusters_l), y=np.array(time_l), color = 'green')\n",
    "# plt.plot(Ms, test_dur)\n",
    "#sns.regplot(x=np.array(num_clusters_l), y=np.full(len(time_l), time_knn_base), color = 'purple')\n",
    "plt.plot(np.array(num_clusters_l), np.full(len(time_l), time_knn_base), color='purple', linestyle='dashed')\n",
    "plt.title('Execution Time versus k\\n')\n",
    "plt.xlabel('number of clusters (k)')\n",
    "plt.ylabel('Execution Time (seconds)')\n",
    "plt.legend(['KMeans', 'KNN baseline'])"
   ]
  },
  {
   "cell_type": "code",
   "execution_count": null,
   "metadata": {},
   "outputs": [],
   "source": []
  }
 ],
 "metadata": {
  "kernelspec": {
   "display_name": "Python 3",
   "language": "python",
   "name": "python3"
  },
  "language_info": {
   "codemirror_mode": {
    "name": "ipython",
    "version": 3
   },
   "file_extension": ".py",
   "mimetype": "text/x-python",
   "name": "python",
   "nbconvert_exporter": "python",
   "pygments_lexer": "ipython3",
   "version": "3.6.4"
  }
 },
 "nbformat": 4,
 "nbformat_minor": 2
}
