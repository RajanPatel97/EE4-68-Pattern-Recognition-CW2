{
 "cells": [
  {
   "cell_type": "code",
   "execution_count": 1,
   "metadata": {},
   "outputs": [],
   "source": [
    "import numpy as np\n",
    "\n",
    "\n",
    "#Store Data Variables\n",
    "import json\n",
    "with open('feature_data.json', 'r') as f:\n",
    " features = json.load(f)\n",
    "\n",
    "from scipy.io import loadmat\n",
    "train_idxs = loadmat('cuhk03_new_protocol_config_labeled.mat')['train_idx'].flatten()\n",
    "query_idxs = loadmat('cuhk03_new_protocol_config_labeled.mat')['query_idx'].flatten()\n",
    "labels = loadmat('cuhk03_new_protocol_config_labeled.mat')['labels'].flatten()\n",
    "gallery_idxs = loadmat('cuhk03_new_protocol_config_labeled.mat')['gallery_idx'].flatten()\n",
    "filelist = loadmat('cuhk03_new_protocol_config_labeled.mat')['filelist'].flatten()\n",
    "camId = loadmat('cuhk03_new_protocol_config_labeled.mat')['camId'].flatten()"
   ]
  },
  {
   "cell_type": "code",
   "execution_count": 2,
   "metadata": {},
   "outputs": [
    {
     "data": {
      "text/plain": [
       "array([    1,     2,     3, ..., 14094, 14095, 14096], dtype=uint16)"
      ]
     },
     "execution_count": 2,
     "metadata": {},
     "output_type": "execute_result"
    }
   ],
   "source": [
    "train_idxs"
   ]
  },
  {
   "cell_type": "code",
   "execution_count": 3,
   "metadata": {},
   "outputs": [
    {
     "data": {
      "text/plain": [
       "array([   22,    27,    49, ..., 14043, 14059, 14063], dtype=uint16)"
      ]
     },
     "execution_count": 3,
     "metadata": {},
     "output_type": "execute_result"
    }
   ],
   "source": [
    "query_idxs"
   ]
  },
  {
   "cell_type": "code",
   "execution_count": 4,
   "metadata": {},
   "outputs": [
    {
     "data": {
      "text/plain": [
       "array([   1,    1,    1, ..., 1467, 1467, 1467], dtype=uint16)"
      ]
     },
     "execution_count": 4,
     "metadata": {},
     "output_type": "execute_result"
    }
   ],
   "source": [
    "labels"
   ]
  },
  {
   "cell_type": "code",
   "execution_count": 5,
   "metadata": {},
   "outputs": [
    {
     "data": {
      "text/plain": [
       "array([   21,    23,    24, ..., 14062, 14064, 14065], dtype=uint16)"
      ]
     },
     "execution_count": 5,
     "metadata": {},
     "output_type": "execute_result"
    }
   ],
   "source": [
    "gallery_idxs"
   ]
  },
  {
   "cell_type": "code",
   "execution_count": 6,
   "metadata": {},
   "outputs": [
    {
     "data": {
      "text/plain": [
       "array([array(['1_001_1_01.png'], dtype='<U14'),\n",
       "       array(['1_001_1_02.png'], dtype='<U14'),\n",
       "       array(['1_001_1_03.png'], dtype='<U14'), ...,\n",
       "       array(['5_049_2_08.png'], dtype='<U14'),\n",
       "       array(['5_049_2_09.png'], dtype='<U14'),\n",
       "       array(['5_049_2_10.png'], dtype='<U14')], dtype=object)"
      ]
     },
     "execution_count": 6,
     "metadata": {},
     "output_type": "execute_result"
    }
   ],
   "source": [
    "filelist"
   ]
  },
  {
   "cell_type": "code",
   "execution_count": 7,
   "metadata": {},
   "outputs": [
    {
     "data": {
      "text/plain": [
       "array([1, 1, 1, ..., 2, 2, 2], dtype=uint8)"
      ]
     },
     "execution_count": 7,
     "metadata": {},
     "output_type": "execute_result"
    }
   ],
   "source": [
    "camId"
   ]
  },
  {
   "cell_type": "code",
   "execution_count": 8,
   "metadata": {},
   "outputs": [],
   "source": [
    "#grid searc cv against k, distance metric and transformation/normalization - use only query and gallery for this part "
   ]
  },
  {
   "cell_type": "code",
   "execution_count": 9,
   "metadata": {},
   "outputs": [],
   "source": [
    "\n",
    "X = np.array(features)\n",
    "y = np.array(labels)\n",
    "filelist = np.array(filelist)\n",
    "camId = np.array(camId)\n",
    "\n"
   ]
  },
  {
   "cell_type": "code",
   "execution_count": 10,
   "metadata": {},
   "outputs": [],
   "source": [
    "mask_train = np.array(train_idxs).ravel()\n",
    "mask_query = np.array(query_idxs).ravel()\n",
    "mask_gallery = np.array(gallery_idxs).ravel()\n",
    "\n",
    "mask_train = np.subtract(mask_train, 1)\n",
    "mask_query = np.subtract(mask_query, 1)\n",
    "mask_gallery = np.subtract(mask_gallery, 1)\n",
    "\n",
    "\n",
    "X_train, X_query, X_gallery = X[mask_train, :], X[mask_query, :], X[mask_gallery, :]\n",
    "y_train, y_query, y_gallery = y[mask_train], y[mask_query], y[mask_gallery]\n",
    "filelist_train, filelist_query, filelist_gallery = filelist[mask_train], filelist[mask_query], filelist[mask_gallery]\n",
    "camId_train, camId_query, camId_gallery = camId[mask_train], camId[mask_query], camId[mask_gallery]\n"
   ]
  },
  {
   "cell_type": "code",
   "execution_count": 12,
   "metadata": {},
   "outputs": [
    {
     "ename": "MemoryError",
     "evalue": "",
     "output_type": "error",
     "traceback": [
      "\u001b[1;31m---------------------------------------------------------------------------\u001b[0m",
      "\u001b[1;31mMemoryError\u001b[0m                               Traceback (most recent call last)",
      "\u001b[1;32m<ipython-input-12-cb20aee300a4>\u001b[0m in \u001b[0;36m<module>\u001b[1;34m()\u001b[0m\n\u001b[0;32m     27\u001b[0m             \u001b[1;32mbreak\u001b[0m\u001b[1;33m\u001b[0m\u001b[0m\n\u001b[0;32m     28\u001b[0m \u001b[0my_train_pair_lables\u001b[0m \u001b[1;33m=\u001b[0m \u001b[0mnp\u001b[0m\u001b[1;33m.\u001b[0m\u001b[0marray\u001b[0m\u001b[1;33m(\u001b[0m\u001b[0my_train_pair_lables\u001b[0m\u001b[1;33m)\u001b[0m\u001b[1;33m\u001b[0m\u001b[0m\n\u001b[1;32m---> 29\u001b[1;33m \u001b[0mX_train_pairs\u001b[0m \u001b[1;33m=\u001b[0m \u001b[0mnp\u001b[0m\u001b[1;33m.\u001b[0m\u001b[0marray\u001b[0m\u001b[1;33m(\u001b[0m\u001b[0mX_train_pairs\u001b[0m\u001b[1;33m)\u001b[0m\u001b[1;33m\u001b[0m\u001b[0m\n\u001b[0m",
      "\u001b[1;31mMemoryError\u001b[0m: "
     ]
    }
   ],
   "source": [
    "X_train_pairs = []\n",
    "y_train_pair_lables = []\n",
    "for Xtnn, ytnn, camId_t in zip(X_train, y_train, camId_train):\n",
    "    p = 0\n",
    "    for Xtnn2, ytnn2, camId_t2 in zip(X_train, y_train, camId_train):\n",
    "        if ((camId_t == camId_t2) and (ytnn == ytnn2)):\n",
    "            continue\n",
    "        q = 0\n",
    "        for Xtnn3, ytnn3, camId_t3 in zip(X_train, y_train, camId_train):\n",
    "            if ((camId_t2 == camId_t3) and (ytnn2 == ytnn3)):\n",
    "                continue\n",
    "            else:\n",
    "                X_train_pairs.append((Xtnn, Xtnn2, Xtnn3))\n",
    "                if((ytnn == ytnn2) and (ytnn == ytnn3)):\n",
    "                    y_train_pair_lables.append((0,0))\n",
    "                elif(((ytnn == ytnn2) and (ytnn != ytnn3))):\n",
    "                    y_train_pair_lables.append((0,1))\n",
    "                elif(((ytnn != ytnn2) and (ytnn == ytnn3))):\n",
    "                    y_train_pair_lables.append((1,0))\n",
    "                else:\n",
    "                    y_train_pair_lables.append((1,1))\n",
    "            q = q + 1\n",
    "            if q > 2:\n",
    "                break\n",
    "        p = p + 1\n",
    "        if p > 2:\n",
    "            break\n",
    "y_train_pair_lables = np.array(y_train_pair_lables)\n",
    "X_train_pairs = np.array(X_train_pairs)"
   ]
  },
  {
   "cell_type": "code",
   "execution_count": 13,
   "metadata": {},
   "outputs": [
    {
     "data": {
      "text/plain": [
       "array([[0, 0],\n",
       "       [0, 0],\n",
       "       [0, 0],\n",
       "       ...,\n",
       "       [1, 1],\n",
       "       [1, 1],\n",
       "       [1, 1]])"
      ]
     },
     "execution_count": 13,
     "metadata": {},
     "output_type": "execute_result"
    }
   ],
   "source": [
    "y_train_pair_lables"
   ]
  },
  {
   "cell_type": "code",
   "execution_count": 14,
   "metadata": {},
   "outputs": [
    {
     "data": {
      "text/plain": [
       "array([[[0.13791114, 1.12505555, 0.05404324, ..., 0.10747871,\n",
       "         0.04081609, 0.68009406],\n",
       "        [0.14378065, 0.75697702, 0.        , ..., 0.07771244,\n",
       "         0.34392792, 0.91535425],\n",
       "        [0.13791114, 1.12505555, 0.05404324, ..., 0.10747871,\n",
       "         0.04081609, 0.68009406]],\n",
       "\n",
       "       [[0.13791114, 1.12505555, 0.05404324, ..., 0.10747871,\n",
       "         0.04081609, 0.68009406],\n",
       "        [0.14378065, 0.75697702, 0.        , ..., 0.07771244,\n",
       "         0.34392792, 0.91535425],\n",
       "        [0.02507781, 0.9057585 , 0.00346441, ..., 0.16763815,\n",
       "         0.14764351, 0.2700713 ]],\n",
       "\n",
       "       [[0.13791114, 1.12505555, 0.05404324, ..., 0.10747871,\n",
       "         0.04081609, 0.68009406],\n",
       "        [0.14378065, 0.75697702, 0.        , ..., 0.07771244,\n",
       "         0.34392792, 0.91535425],\n",
       "        [0.09923808, 1.09122825, 0.01889733, ..., 0.07981343,\n",
       "         0.04958951, 0.37923682]],\n",
       "\n",
       "       ...,\n",
       "\n",
       "       [[0.46024311, 2.31024432, 1.20531154, ..., 0.62753201,\n",
       "         1.22394812, 0.        ],\n",
       "        [0.09923808, 1.09122825, 0.01889733, ..., 0.07981343,\n",
       "         0.04958951, 0.37923682],\n",
       "        [0.14378065, 0.75697702, 0.        , ..., 0.07771244,\n",
       "         0.34392792, 0.91535425]],\n",
       "\n",
       "       [[0.46024311, 2.31024432, 1.20531154, ..., 0.62753201,\n",
       "         1.22394812, 0.        ],\n",
       "        [0.09923808, 1.09122825, 0.01889733, ..., 0.07981343,\n",
       "         0.04958951, 0.37923682],\n",
       "        [0.22717959, 1.1086266 , 0.01237505, ..., 0.0269577 ,\n",
       "         0.17194827, 0.64660627]],\n",
       "\n",
       "       [[0.46024311, 2.31024432, 1.20531154, ..., 0.62753201,\n",
       "         1.22394812, 0.        ],\n",
       "        [0.09923808, 1.09122825, 0.01889733, ..., 0.07981343,\n",
       "         0.04958951, 0.37923682],\n",
       "        [0.13832501, 0.92575222, 0.04552706, ..., 0.02274222,\n",
       "         0.26753789, 0.57453543]]])"
      ]
     },
     "execution_count": 14,
     "metadata": {},
     "output_type": "execute_result"
    }
   ],
   "source": [
    "X_train_pairs"
   ]
  },
  {
   "cell_type": "code",
   "execution_count": 15,
   "metadata": {},
   "outputs": [
    {
     "data": {
      "text/plain": [
       "66312"
      ]
     },
     "execution_count": 15,
     "metadata": {},
     "output_type": "execute_result"
    }
   ],
   "source": [
    "len(X_train_pairs)"
   ]
  },
  {
   "cell_type": "code",
   "execution_count": 17,
   "metadata": {},
   "outputs": [],
   "source": [
    "from sklearn.neural_network import MLPClassifier\n",
    "mlp = MLPClassifier(hidden_layer_sizes=(100,), activation='logistic', max_iter=200, alpha=1e-4,\n",
    "                    solver='adam', verbose=10, tol=1e-4, random_state=1,\n",
    "                    learning_rate_init=.1)"
   ]
  },
  {
   "cell_type": "code",
   "execution_count": 18,
   "metadata": {},
   "outputs": [
    {
     "name": "stdout",
     "output_type": "stream",
     "text": [
      "Iteration 1, loss = 7.78552994\n",
      "Iteration 2, loss = 6.79945158\n",
      "Iteration 3, loss = 6.30535584\n",
      "Iteration 4, loss = 6.13245759\n",
      "Iteration 5, loss = 6.00453691\n",
      "Iteration 6, loss = 5.91138517\n",
      "Iteration 7, loss = 5.85420269\n",
      "Iteration 8, loss = 5.75260260\n",
      "Iteration 9, loss = 5.58447545\n",
      "Iteration 10, loss = 5.54572988\n",
      "Iteration 11, loss = 5.52440419\n",
      "Iteration 12, loss = 5.44266349\n",
      "Iteration 13, loss = 5.35724092\n",
      "Iteration 14, loss = 5.38684392\n",
      "Iteration 15, loss = 5.65432593\n",
      "Iteration 16, loss = 5.55752508\n",
      "Training loss did not improve more than tol=0.000100 for two consecutive epochs. Stopping.\n"
     ]
    },
    {
     "data": {
      "text/plain": [
       "MLPClassifier(activation='logistic', alpha=0.0001, batch_size='auto',\n",
       "       beta_1=0.9, beta_2=0.999, early_stopping=False, epsilon=1e-08,\n",
       "       hidden_layer_sizes=(100,), learning_rate='constant',\n",
       "       learning_rate_init=0.1, max_iter=200, momentum=0.9,\n",
       "       nesterovs_momentum=True, power_t=0.5, random_state=1, shuffle=True,\n",
       "       solver='adam', tol=0.0001, validation_fraction=0.1, verbose=10,\n",
       "       warm_start=False)"
      ]
     },
     "execution_count": 18,
     "metadata": {},
     "output_type": "execute_result"
    }
   ],
   "source": [
    "mlp.fit(X_train, y_train)"
   ]
  },
  {
   "cell_type": "code",
   "execution_count": null,
   "metadata": {},
   "outputs": [],
   "source": []
  }
 ],
 "metadata": {
  "kernelspec": {
   "display_name": "Python 3",
   "language": "python",
   "name": "python3"
  },
  "language_info": {
   "codemirror_mode": {
    "name": "ipython",
    "version": 3
   },
   "file_extension": ".py",
   "mimetype": "text/x-python",
   "name": "python",
   "nbconvert_exporter": "python",
   "pygments_lexer": "ipython3",
   "version": "3.6.5"
  }
 },
 "nbformat": 4,
 "nbformat_minor": 2
}
