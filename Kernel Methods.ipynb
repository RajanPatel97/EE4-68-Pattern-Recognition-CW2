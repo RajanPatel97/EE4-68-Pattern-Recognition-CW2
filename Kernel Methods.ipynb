{
 "cells": [
  {
   "cell_type": "code",
   "execution_count": 1,
   "metadata": {},
   "outputs": [],
   "source": [
    "import numpy as np\n",
    "\n",
    "import seaborn as sns\n",
    "import matplotlib\n",
    "import matplotlib.pyplot as plt\n",
    "\n",
    "#Store Data Variables\n",
    "import json\n",
    "with open('feature_data.json', 'r') as f:\n",
    " features = json.load(f)\n",
    "\n",
    "from scipy.io import loadmat\n",
    "train_idxs = loadmat('cuhk03_new_protocol_config_labeled.mat')['train_idx'].flatten()\n",
    "query_idxs = loadmat('cuhk03_new_protocol_config_labeled.mat')['query_idx'].flatten()\n",
    "labels = loadmat('cuhk03_new_protocol_config_labeled.mat')['labels'].flatten()\n",
    "gallery_idxs = loadmat('cuhk03_new_protocol_config_labeled.mat')['gallery_idx'].flatten()\n",
    "filelist = loadmat('cuhk03_new_protocol_config_labeled.mat')['filelist'].flatten()\n",
    "camId = loadmat('cuhk03_new_protocol_config_labeled.mat')['camId'].flatten()"
   ]
  },
  {
   "cell_type": "code",
   "execution_count": 9,
   "metadata": {},
   "outputs": [],
   "source": [
    "\n",
    "X = np.array(features)\n",
    "y = np.array(labels)\n",
    "filelist = np.array(filelist)\n",
    "camId = np.array(camId)\n",
    "\n"
   ]
  },
  {
   "cell_type": "code",
   "execution_count": 10,
   "metadata": {},
   "outputs": [],
   "source": [
    "mask_train = np.array(train_idxs).ravel()\n",
    "mask_query = np.array(query_idxs).ravel()\n",
    "mask_gallery = np.array(gallery_idxs).ravel()\n",
    "\n",
    "mask_train = np.subtract(mask_train, 1)\n",
    "mask_query = np.subtract(mask_query, 1)\n",
    "mask_gallery = np.subtract(mask_gallery, 1)\n",
    "\n",
    "\n",
    "X_train, X_query, X_gallery = X[mask_train, :], X[mask_query, :], X[mask_gallery, :]\n",
    "y_train, y_query, y_gallery = y[mask_train], y[mask_query], y[mask_gallery]\n",
    "filelist_train, filelist_query, filelist_gallery = filelist[mask_train], filelist[mask_query], filelist[mask_gallery]\n",
    "camId_train, camId_query, camId_gallery = camId[mask_train], camId[mask_query], camId[mask_gallery]\n"
   ]
  },
  {
   "cell_type": "code",
   "execution_count": 11,
   "metadata": {},
   "outputs": [],
   "source": [
    "def get_acc_score(y_valid, y_q, tot_label_occur):\n",
    "    recall = 0\n",
    "    true_positives = 0\n",
    "    \n",
    "    k = 0\n",
    "    \n",
    "    max_rank = 30\n",
    "    \n",
    "    rank_A = np.zeros(max_rank)\n",
    "    AP_arr = np.zeros(11)\n",
    "    \n",
    "    while (recall < 1) or (k < max_rank):\n",
    "        \n",
    "        if (y_valid[k] == y_q):\n",
    "            \n",
    "            true_positives = true_positives + 1\n",
    "            recall = true_positives/tot_label_occur\n",
    "            precision = true_positives/(k+1)\n",
    "            \n",
    "            AP_arr[round((recall-0.05)*10)] = precision\n",
    "            \n",
    "            for n in range (k, max_rank):\n",
    "                rank_A[n] = 1\n",
    "            \n",
    "        k = k+1\n",
    "        \n",
    "    max_precision = 0\n",
    "    for i in range(10, -1, -1):\n",
    "        max_precision = max(max_precision, AP_arr[i])\n",
    "        AP_arr[i] = max_precision\n",
    "    \n",
    "    AP_ = AP_arr.sum()/11\n",
    "    \n",
    "    return AP_, rank_A"
   ]
  },
  {
   "cell_type": "code",
   "execution_count": 21,
   "metadata": {
    "scrolled": false
   },
   "outputs": [],
   "source": [
    "from scipy.spatial import distance\n",
    "from sklearn.metrics import pairwise\n",
    "\n",
    "def evaluate_metric(X_query, camId_query, y_query, X_gallery, camId_gallery, y_gallery, kernel = 'polynomial', parameters = None):\n",
    "\n",
    "    rank_accuracies = []\n",
    "    AP = []\n",
    "\n",
    "    # Break condition for testing\n",
    "    #q = 0\n",
    "\n",
    "    for query, camId_q, y_q in zip(X_query, camId_query, y_query):\n",
    "        q_g_dists = []\n",
    "        y_valid = []\n",
    "        for gallery, camId_g, y_g  in zip(X_gallery, camId_gallery, y_gallery):\n",
    "            if ((camId_q == camId_g) and (y_q == y_g)):\n",
    "                continue\n",
    "            else:\n",
    "                if kernel == 'polynomial':\n",
    "                    qq = pairwise.polynomial_kernel(query.reshape(1, -1), query.reshape(1, -1))[0][0]\n",
    "                    qg = pairwise.polynomial_kernel(query.reshape(1, -1), gallery.reshape(1, -1))[0][0]\n",
    "                    gg = pairwise.polynomial_kernel(gallery.reshape(1, -1), gallery.reshape(1, -1))[0][0]\n",
    "                elif kernel == 'gaussian_rbf':\n",
    "                    qq = pairwise.rbf_kernel(query.reshape(1, -1), query.reshape(1, -1))[0][0]\n",
    "                    qg = pairwise.rbf_kernel(query.reshape(1, -1), gallery.reshape(1, -1))[0][0]\n",
    "                    gg = pairwise.rbf_kernel(gallery.reshape(1, -1), gallery.reshape(1, -1))[0][0]\n",
    "                elif kernel == 'sigmoid':\n",
    "                    qq = pairwise.sigmoid_kernel(query.reshape(1, -1), query.reshape(1, -1))[0][0]\n",
    "                    qg = pairwise.sigmoid_kernel(query.reshape(1, -1), gallery.reshape(1, -1))[0][0]\n",
    "                    gg = pairwise.sigmoid_kernel(gallery.reshape(1, -1), gallery.reshape(1, -1))[0][0]\n",
    "                elif kernel == 'chi2':\n",
    "                    qq = (pairwise.chi2_kernel(query.reshape(1, -1), query.reshape(1, -1))[0][0])**-1\n",
    "                    qg = (pairwise.chi2_kernel(query.reshape(1, -1), gallery.reshape(1, -1))[0][0])**-1\n",
    "                    gg = (pairwise.chi2_kernel(gallery.reshape(1, -1), gallery.reshape(1, -1))[0][0])**-1\n",
    "                elif kernel == 'mahalanobis':\n",
    "                    dist = distance.mahalanobis(query, gallery, parameters)\n",
    "                else:\n",
    "                    raise NameError('Specified metric not supported')\n",
    "                dist = qq - 2*qg + gg\n",
    "                q_g_dists.append(dist)\n",
    "                y_valid.append(y_g)\n",
    "    \n",
    "        tot_label_occur = y_valid.count(y_q)\n",
    "    \n",
    "        q_g_dists = np.array(q_g_dists)\n",
    "        y_valid = np.array(y_valid)\n",
    "    \n",
    "        _indexes = np.argsort(q_g_dists)\n",
    "    \n",
    "        # Sorted distances and labels\n",
    "        q_g_dists, y_valid = q_g_dists[_indexes], y_valid[_indexes]\n",
    "    \n",
    "        AP_, rank_A = get_acc_score(y_valid, y_q, tot_label_occur)\n",
    "    \n",
    "        AP.append(AP_)\n",
    "        \n",
    "        rank_accuracies.append(rank_A)\n",
    "    \n",
    "        #if q  > 5:\n",
    "        #    break\n",
    "        #q = q+1\n",
    "\n",
    "    rank_accuracies = np.array(rank_accuracies)\n",
    "\n",
    "    total = rank_accuracies.shape[0]\n",
    "    rank_accuracies = rank_accuracies.sum(axis = 0)\n",
    "    rank_accuracies = np.divide(rank_accuracies, total)\n",
    "\n",
    "    i = 0\n",
    "    print ('Accuracies by Rank:')\n",
    "    while i < rank_accuracies.shape[0]:\n",
    "        print('Rank ', i+1, ' = %.2f%%' % (rank_accuracies[i] * 100), '\\t',\n",
    "              'Rank ', i+2, ' = %.2f%%' % (rank_accuracies[i+1] * 100), '\\t',\n",
    "              'Rank ', i+3, ' = %.2f%%' % (rank_accuracies[i+2] * 100), '\\t',\n",
    "              'Rank ', i+4, ' = %.2f%%' % (rank_accuracies[i+3] * 100), '\\t',\n",
    "              'Rank ', i+5, ' = %.2f%%' % (rank_accuracies[i+4] * 100))\n",
    "        i = i+5\n",
    "\n",
    "    AP = np.array(AP)\n",
    "\n",
    "    mAP = AP.sum()/AP.shape[0]\n",
    "    print('mAP = %.2f%%' % (mAP * 100))\n",
    "    \n",
    "    return rank_accuracies, mAP\n",
    "\n",
    "    \n",
    "        \n",
    "    "
   ]
  },
  {
   "cell_type": "code",
   "execution_count": 13,
   "metadata": {},
   "outputs": [],
   "source": [
    "rank_accuracies_l = []\n",
    "mAP_l = []\n",
    "metric_l = []"
   ]
  },
  {
   "cell_type": "code",
   "execution_count": 14,
   "metadata": {},
   "outputs": [
    {
     "name": "stdout",
     "output_type": "stream",
     "text": [
      "Accuracies by Rank:\n",
      "Rank  1  = 46.50% \t Rank  2  = 54.71% \t Rank  3  = 58.93% \t Rank  4  = 63.43% \t Rank  5  = 66.64%\n",
      "Rank  6  = 69.07% \t Rank  7  = 70.64% \t Rank  8  = 72.14% \t Rank  9  = 73.36% \t Rank  10  = 74.86%\n",
      "Rank  11  = 75.86% \t Rank  12  = 76.57% \t Rank  13  = 76.93% \t Rank  14  = 77.93% \t Rank  15  = 78.79%\n",
      "Rank  16  = 79.21% \t Rank  17  = 79.64% \t Rank  18  = 80.36% \t Rank  19  = 81.43% \t Rank  20  = 81.86%\n",
      "Rank  21  = 82.36% \t Rank  22  = 82.79% \t Rank  23  = 83.00% \t Rank  24  = 83.50% \t Rank  25  = 83.79%\n",
      "Rank  26  = 84.21% \t Rank  27  = 84.43% \t Rank  28  = 84.86% \t Rank  29  = 85.21% \t Rank  30  = 85.57%\n",
      "mAP = 45.52%\n"
     ]
    }
   ],
   "source": [
    "# Polynomial Kernel\n",
    "rank_accuracies, mAP = evaluate_metric(X_query, camId_query, y_query,\n",
    "                                       X_gallery, camId_gallery, y_gallery,\n",
    "                                       kernel ='polynomial',\n",
    "                                       parameters = None)\n",
    "\n",
    "rank_accuracies_l.append(rank_accuracies)\n",
    "mAP_l.append(mAP)\n",
    "metric_l.append('Polynomial')\n"
   ]
  },
  {
   "cell_type": "code",
   "execution_count": 15,
   "metadata": {},
   "outputs": [
    {
     "name": "stdout",
     "output_type": "stream",
     "text": [
      "Accuracies by Rank:\n",
      "Rank  1  = 47.00% \t Rank  2  = 54.57% \t Rank  3  = 59.64% \t Rank  4  = 63.93% \t Rank  5  = 66.86%\n",
      "Rank  6  = 69.29% \t Rank  7  = 71.14% \t Rank  8  = 72.36% \t Rank  9  = 73.71% \t Rank  10  = 74.93%\n",
      "Rank  11  = 75.86% \t Rank  12  = 76.79% \t Rank  13  = 77.71% \t Rank  14  = 78.50% \t Rank  15  = 79.07%\n",
      "Rank  16  = 79.86% \t Rank  17  = 80.64% \t Rank  18  = 81.57% \t Rank  19  = 82.29% \t Rank  20  = 83.21%\n",
      "Rank  21  = 83.50% \t Rank  22  = 83.71% \t Rank  23  = 84.00% \t Rank  24  = 84.29% \t Rank  25  = 84.79%\n",
      "Rank  26  = 85.29% \t Rank  27  = 85.64% \t Rank  28  = 85.93% \t Rank  29  = 86.07% \t Rank  30  = 86.36%\n",
      "mAP = 46.57%\n"
     ]
    }
   ],
   "source": [
    "# Gaussian RBF Kernel\n",
    "rank_accuracies, mAP = evaluate_metric(X_query, camId_query, y_query,\n",
    "                                       X_gallery, camId_gallery, y_gallery,\n",
    "                                       kernel ='gaussian_rbf',\n",
    "                                       parameters = None)\n",
    "\n",
    "rank_accuracies_l.append(rank_accuracies)\n",
    "mAP_l.append(mAP)\n",
    "metric_l.append('Gaussian RBF')"
   ]
  },
  {
   "cell_type": "code",
   "execution_count": 16,
   "metadata": {},
   "outputs": [
    {
     "name": "stdout",
     "output_type": "stream",
     "text": [
      "Accuracies by Rank:\n",
      "Rank  1  = 47.21% \t Rank  2  = 54.50% \t Rank  3  = 60.21% \t Rank  4  = 64.21% \t Rank  5  = 67.43%\n",
      "Rank  6  = 69.71% \t Rank  7  = 71.14% \t Rank  8  = 72.50% \t Rank  9  = 74.07% \t Rank  10  = 75.07%\n",
      "Rank  11  = 76.36% \t Rank  12  = 77.07% \t Rank  13  = 78.14% \t Rank  14  = 78.71% \t Rank  15  = 79.43%\n",
      "Rank  16  = 80.36% \t Rank  17  = 81.14% \t Rank  18  = 82.29% \t Rank  19  = 82.79% \t Rank  20  = 83.21%\n",
      "Rank  21  = 83.57% \t Rank  22  = 84.07% \t Rank  23  = 84.21% \t Rank  24  = 84.50% \t Rank  25  = 84.86%\n",
      "Rank  26  = 85.00% \t Rank  27  = 85.36% \t Rank  28  = 85.71% \t Rank  29  = 86.07% \t Rank  30  = 86.21%\n",
      "mAP = 47.11%\n"
     ]
    }
   ],
   "source": [
    "# Sigmoid Kernel\n",
    "rank_accuracies, mAP = evaluate_metric(X_query, camId_query, y_query,\n",
    "                                       X_gallery, camId_gallery, y_gallery,\n",
    "                                       kernel ='sigmoid',\n",
    "                                       parameters = None)\n",
    "\n",
    "rank_accuracies_l.append(rank_accuracies)\n",
    "mAP_l.append(mAP)\n",
    "metric_l.append('Sigmoid')"
   ]
  },
  {
   "cell_type": "code",
   "execution_count": 22,
   "metadata": {},
   "outputs": [
    {
     "name": "stderr",
     "output_type": "stream",
     "text": [
      "/anaconda3/lib/python3.6/site-packages/ipykernel_launcher.py:33: RuntimeWarning: overflow encountered in double_scalars\n",
      "/anaconda3/lib/python3.6/site-packages/ipykernel_launcher.py:33: RuntimeWarning: divide by zero encountered in double_scalars\n",
      "/anaconda3/lib/python3.6/site-packages/ipykernel_launcher.py:39: RuntimeWarning: overflow encountered in double_scalars\n"
     ]
    },
    {
     "name": "stdout",
     "output_type": "stream",
     "text": [
      "Accuracies by Rank:\n",
      "Rank  1  = 0.00% \t Rank  2  = 0.00% \t Rank  3  = 0.00% \t Rank  4  = 0.00% \t Rank  5  = 0.00%\n",
      "Rank  6  = 0.00% \t Rank  7  = 0.00% \t Rank  8  = 0.00% \t Rank  9  = 0.00% \t Rank  10  = 0.00%\n",
      "Rank  11  = 0.00% \t Rank  12  = 0.00% \t Rank  13  = 0.00% \t Rank  14  = 0.00% \t Rank  15  = 0.00%\n",
      "Rank  16  = 0.00% \t Rank  17  = 0.00% \t Rank  18  = 0.00% \t Rank  19  = 0.00% \t Rank  20  = 0.00%\n",
      "Rank  21  = 0.00% \t Rank  22  = 0.00% \t Rank  23  = 0.00% \t Rank  24  = 0.00% \t Rank  25  = 0.00%\n",
      "Rank  26  = 0.00% \t Rank  27  = 0.00% \t Rank  28  = 0.00% \t Rank  29  = 0.00% \t Rank  30  = 0.00%\n",
      "mAP = 0.07%\n"
     ]
    }
   ],
   "source": [
    "# Chi Square Kernel\n",
    "rank_accuracies, mAP = evaluate_metric(X_query, camId_query, y_query,\n",
    "                                       X_gallery, camId_gallery, y_gallery,\n",
    "                                       kernel ='chi2',\n",
    "                                       parameters = None)\n",
    "\n",
    "rank_accuracies_l.append(rank_accuracies)\n",
    "mAP_l.append(mAP)\n",
    "metric_l.append('Chi Square')"
   ]
  },
  {
   "cell_type": "code",
   "execution_count": 18,
   "metadata": {},
   "outputs": [],
   "source": [
    "# Obtained from other file\n",
    "\n",
    "\n",
    "rank_accuracy_base = np.array([47.00, 54.57, 59.64, 63.93, 66.86, 69.29, 71.14, 72.36, 73.71, 74.93, 75.86, 76.79, 77.71, 78.50, 79.07, 79.86, 80.64, 81.57, 82.29, 83.21, 83.50, 83.71, 84.00, 84.29, 84.79, 85.29, 85.64, 85.93, 86.07, 86.36])\n",
    "\n"
   ]
  },
  {
   "cell_type": "code",
   "execution_count": 20,
   "metadata": {},
   "outputs": [
    {
     "data": {
      "text/plain": [
       "<matplotlib.legend.Legend at 0x1a2c3e7ac8>"
      ]
     },
     "execution_count": 20,
     "metadata": {},
     "output_type": "execute_result"
    },
    {
     "data": {
      "image/png": "[encoded data removed]",
      "text/plain": [
       "<matplotlib.figure.Figure at 0x1a2c4b44e0>"
      ]
     },
     "metadata": {},
     "output_type": "display_data"
    }
   ],
   "source": [
    "plt.figure(figsize=(8.0, 6.0))\n",
    "color_list = ['green', 'blue', 'red', 'purple', 'orange', 'magenta', 'cyan', 'black', 'indianred', 'lightseagreen', 'gold', 'lightgreen']\n",
    "for i in range(len(metric_l)-1):\n",
    "    plt.plot(np.arange(1, 31), 100*rank_accuracies_l[i], color=color_list[i], linestyle='dashed', label='Kernel: '+ metric_l[i])\n",
    "plt.plot(np.arange(1, 31), rank_accuracy_base, color='darkorange', linestyle=':', label='kNN Baseline')\n",
    "plt.title('CMC Curves for a range of kernels')\n",
    "plt.xlabel('Rank')\n",
    "plt.ylabel('Recogniton Accuracy / %')\n",
    "plt.legend(loc='best')"
   ]
  },
  {
   "cell_type": "code",
   "execution_count": null,
   "metadata": {},
   "outputs": [],
   "source": []
  }
 ],
 "metadata": {
  "kernelspec": {
   "display_name": "Python 3",
   "language": "python",
   "name": "python3"
  },
  "language_info": {
   "codemirror_mode": {
    "name": "ipython",
    "version": 3
   },
   "file_extension": ".py",
   "mimetype": "text/x-python",
   "name": "python",
   "nbconvert_exporter": "python",
   "pygments_lexer": "ipython3",
   "version": "3.6.4"
  }
 },
 "nbformat": 4,
 "nbformat_minor": 2
}
