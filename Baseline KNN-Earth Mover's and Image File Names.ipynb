{
 "cells": [
  {
   "cell_type": "code",
   "execution_count": 1,
   "metadata": {},
   "outputs": [],
   "source": [
    "import numpy as np\n",
    "\n",
    "import seaborn as sns\n",
    "import matplotlib\n",
    "import matplotlib.pyplot as plt\n",
    "\n",
    "#Store Data Variables\n",
    "import json\n",
    "with open('feature_data.json', 'r') as f:\n",
    " features = json.load(f)\n",
    "\n",
    "from scipy.io import loadmat\n",
    "train_idxs = loadmat('cuhk03_new_protocol_config_labeled.mat')['train_idx'].flatten()\n",
    "query_idxs = loadmat('cuhk03_new_protocol_config_labeled.mat')['query_idx'].flatten()\n",
    "labels = loadmat('cuhk03_new_protocol_config_labeled.mat')['labels'].flatten()\n",
    "gallery_idxs = loadmat('cuhk03_new_protocol_config_labeled.mat')['gallery_idx'].flatten()\n",
    "filelist = loadmat('cuhk03_new_protocol_config_labeled.mat')['filelist'].flatten()\n",
    "camId = loadmat('cuhk03_new_protocol_config_labeled.mat')['camId'].flatten()"
   ]
  },
  {
   "cell_type": "code",
   "execution_count": 2,
   "metadata": {},
   "outputs": [
    {
     "data": {
      "text/plain": [
       "array([    1,     2,     3, ..., 14094, 14095, 14096], dtype=uint16)"
      ]
     },
     "execution_count": 2,
     "metadata": {},
     "output_type": "execute_result"
    }
   ],
   "source": [
    "train_idxs"
   ]
  },
  {
   "cell_type": "code",
   "execution_count": 3,
   "metadata": {},
   "outputs": [
    {
     "data": {
      "text/plain": [
       "array([   22,    27,    49, ..., 14043, 14059, 14063], dtype=uint16)"
      ]
     },
     "execution_count": 3,
     "metadata": {},
     "output_type": "execute_result"
    }
   ],
   "source": [
    "query_idxs"
   ]
  },
  {
   "cell_type": "code",
   "execution_count": 4,
   "metadata": {},
   "outputs": [
    {
     "data": {
      "text/plain": [
       "array([   1,    1,    1, ..., 1467, 1467, 1467], dtype=uint16)"
      ]
     },
     "execution_count": 4,
     "metadata": {},
     "output_type": "execute_result"
    }
   ],
   "source": [
    "labels"
   ]
  },
  {
   "cell_type": "code",
   "execution_count": 5,
   "metadata": {},
   "outputs": [
    {
     "data": {
      "text/plain": [
       "array([   21,    23,    24, ..., 14062, 14064, 14065], dtype=uint16)"
      ]
     },
     "execution_count": 5,
     "metadata": {},
     "output_type": "execute_result"
    }
   ],
   "source": [
    "gallery_idxs"
   ]
  },
  {
   "cell_type": "code",
   "execution_count": 6,
   "metadata": {},
   "outputs": [
    {
     "data": {
      "text/plain": [
       "array([array(['1_001_1_01.png'], dtype='<U14'),\n",
       "       array(['1_001_1_02.png'], dtype='<U14'),\n",
       "       array(['1_001_1_03.png'], dtype='<U14'), ...,\n",
       "       array(['5_049_2_08.png'], dtype='<U14'),\n",
       "       array(['5_049_2_09.png'], dtype='<U14'),\n",
       "       array(['5_049_2_10.png'], dtype='<U14')], dtype=object)"
      ]
     },
     "execution_count": 6,
     "metadata": {},
     "output_type": "execute_result"
    }
   ],
   "source": [
    "filelist"
   ]
  },
  {
   "cell_type": "code",
   "execution_count": 7,
   "metadata": {},
   "outputs": [
    {
     "data": {
      "text/plain": [
       "array([1, 1, 1, ..., 2, 2, 2], dtype=uint8)"
      ]
     },
     "execution_count": 7,
     "metadata": {},
     "output_type": "execute_result"
    }
   ],
   "source": [
    "camId"
   ]
  },
  {
   "cell_type": "code",
   "execution_count": 8,
   "metadata": {},
   "outputs": [],
   "source": [
    "#grid searc cv against k, distance metric and transformation/normalization - use only query and gallery for this part "
   ]
  },
  {
   "cell_type": "code",
   "execution_count": 9,
   "metadata": {},
   "outputs": [],
   "source": [
    "\n",
    "X = np.array(features)\n",
    "y = np.array(labels)\n",
    "filelist = np.array(filelist)\n",
    "camId = np.array(camId)\n",
    "\n"
   ]
  },
  {
   "cell_type": "code",
   "execution_count": 10,
   "metadata": {},
   "outputs": [],
   "source": [
    "mask_train = np.array(train_idxs).ravel()\n",
    "mask_query = np.array(query_idxs).ravel()\n",
    "mask_gallery = np.array(gallery_idxs).ravel()\n",
    "\n",
    "mask_train = np.subtract(mask_train, 1)\n",
    "mask_query = np.subtract(mask_query, 1)\n",
    "mask_gallery = np.subtract(mask_gallery, 1)\n",
    "\n",
    "\n",
    "X_train, X_query, X_gallery = X[mask_train, :], X[mask_query, :], X[mask_gallery, :]\n",
    "y_train, y_query, y_gallery = y[mask_train], y[mask_query], y[mask_gallery]\n",
    "filelist_train, filelist_query, filelist_gallery = filelist[mask_train], filelist[mask_query], filelist[mask_gallery]\n",
    "camId_train, camId_query, camId_gallery = camId[mask_train], camId[mask_query], camId[mask_gallery]\n"
   ]
  },
  {
   "cell_type": "code",
   "execution_count": 11,
   "metadata": {},
   "outputs": [],
   "source": [
    "def get_acc_score(y_valid, y_q, tot_label_occur):\n",
    "    recall = 0\n",
    "    true_positives = 0\n",
    "    \n",
    "    k = 0\n",
    "    \n",
    "    max_rank = 30\n",
    "    \n",
    "    rank_A = np.zeros(max_rank)\n",
    "    AP_arr = np.zeros(11)\n",
    "    \n",
    "    while (recall < 1) or (k < max_rank):\n",
    "        \n",
    "        if (y_valid[k] == y_q):\n",
    "            \n",
    "            true_positives = true_positives + 1\n",
    "            recall = true_positives/tot_label_occur\n",
    "            precision = true_positives/(k+1)\n",
    "            \n",
    "            AP_arr[round((recall-0.05)*10)] = precision\n",
    "            \n",
    "            for n in range (k, max_rank):\n",
    "                rank_A[n] = 1\n",
    "            \n",
    "        k = k+1\n",
    "        \n",
    "    max_precision = 0\n",
    "    for i in range(10, -1, -1):\n",
    "        max_precision = max(max_precision, AP_arr[i])\n",
    "        AP_arr[i] = max_precision\n",
    "    \n",
    "    AP_ = AP_arr.sum()/11\n",
    "    \n",
    "    return AP_, rank_A"
   ]
  },
  {
   "cell_type": "code",
   "execution_count": 26,
   "metadata": {
    "scrolled": false
   },
   "outputs": [],
   "source": [
    "from scipy.spatial import distance\n",
    "from sklearn.metrics import pairwise\n",
    "from scipy.stats import wasserstein_distance\n",
    "\n",
    "\n",
    "def evaluate_metric(X_query, camId_query, y_query, X_gallery, camId_gallery, y_gallery, metric = 'euclidian', parameters = None):\n",
    "\n",
    "    rank_accuracies = []\n",
    "    AP = []\n",
    "\n",
    "    # Break condition for testing\n",
    "    q = 0\n",
    "\n",
    "    for query, camId_q, y_q in zip(X_query, camId_query, y_query):\n",
    "        q_g_dists = []\n",
    "        y_valid = []\n",
    "        X_valid = []\n",
    "        for gallery, camId_g, y_g  in zip(X_gallery, camId_gallery, y_gallery):\n",
    "            if ((camId_q == camId_g) and (y_q == y_g)):\n",
    "                continue\n",
    "            else:\n",
    "                if metric == 'euclidian':\n",
    "                    dist = distance.euclidean(query, gallery)\n",
    "                elif metric == 'sqeuclidean':\n",
    "                    dist = distance.sqeuclidean(query, gallery)\n",
    "                elif metric == 'earth_mov':\n",
    "                    dist = wasserstein_distance(query, gallery)\n",
    "                elif metric == 'mahalanobis':\n",
    "                    dist = distance.mahalanobis(query, gallery, parameters)\n",
    "                else:\n",
    "                    raise NameError('Specified metric not supported')           \n",
    "                q_g_dists.append(dist)\n",
    "                y_valid.append(y_g)\n",
    "                X_valid.append(gallery)\n",
    "    \n",
    "        tot_label_occur = y_valid.count(y_q)\n",
    "    \n",
    "        q_g_dists = np.array(q_g_dists)\n",
    "        y_valid = np.array(y_valid)\n",
    "        X_valid = np.array(X_valid)\n",
    "    \n",
    "        _indexes = np.argsort(q_g_dists)\n",
    "    \n",
    "        # Sorted distances and labels\n",
    "        q_g_dists, y_valid, X_valid = q_g_dists[_indexes], y_valid[_indexes], X_valid[_indexes]\n",
    "    \n",
    "        AP_, rank_A = get_acc_score(y_valid, y_q, tot_label_occur)\n",
    "    \n",
    "        AP.append(AP_)\n",
    "        \n",
    "        rank_accuracies.append(rank_A)\n",
    "        \n",
    "        print ('1 done')\n",
    "    \n",
    "        if q < 6:\n",
    "            for i, x in enumerate(X_query):\n",
    "                if (np.array_equal(x, query)):\n",
    "                    print('Query Image: ', filelist_query[i], '     label = ', y_q)\n",
    "            for x, y_ in zip(X_valid[0:10], y_valid[0:10]):\n",
    "                for i, x_ in enumerate(X_gallery):\n",
    "                    if (np.array_equal(x, x_)):\n",
    "                        print('Gallery Image: ', filelist_gallery[i], '     label = ', y_)\n",
    "        else:\n",
    "            break\n",
    "                \n",
    "        q = q+1\n",
    "\n",
    "    rank_accuracies = np.array(rank_accuracies)\n",
    "\n",
    "    total = rank_accuracies.shape[0]\n",
    "    rank_accuracies = rank_accuracies.sum(axis = 0)\n",
    "    rank_accuracies = np.divide(rank_accuracies, total)\n",
    "\n",
    "    i = 0\n",
    "    print ('Accuracies by Rank:')\n",
    "    while i < rank_accuracies.shape[0]:\n",
    "        print('Rank ', i+1, ' = %.2f%%' % (rank_accuracies[i] * 100), '\\t',\n",
    "              'Rank ', i+2, ' = %.2f%%' % (rank_accuracies[i+1] * 100), '\\t',\n",
    "              'Rank ', i+3, ' = %.2f%%' % (rank_accuracies[i+2] * 100), '\\t',\n",
    "              'Rank ', i+4, ' = %.2f%%' % (rank_accuracies[i+3] * 100), '\\t',\n",
    "              'Rank ', i+5, ' = %.2f%%' % (rank_accuracies[i+4] * 100))\n",
    "        i = i+5\n",
    "\n",
    "    AP = np.array(AP)\n",
    "\n",
    "    mAP = AP.sum()/AP.shape[0]\n",
    "    print('mAP = %.2f%%' % (mAP * 100))\n",
    "    \n",
    "    return rank_accuracies, mAP\n",
    "\n",
    "    \n",
    "        \n",
    "    "
   ]
  },
  {
   "cell_type": "code",
   "execution_count": 27,
   "metadata": {},
   "outputs": [],
   "source": [
    "rank_accuracies_l = []\n",
    "mAP_l = []\n",
    "metric_l = []"
   ]
  },
  {
   "cell_type": "code",
   "execution_count": 28,
   "metadata": {},
   "outputs": [
    {
     "name": "stdout",
     "output_type": "stream",
     "text": [
      "1 done\n",
      "Query Image:  ['1_003_1_02.png']      label =  3\n",
      "Gallery Image:  ['4_008_1_02.png']      label =  1368\n",
      "Gallery Image:  ['1_739_1_05.png']      label =  739\n",
      "Gallery Image:  ['5_008_2_09.png']      label =  1426\n",
      "Gallery Image:  ['1_051_2_07.png']      label =  51\n",
      "Gallery Image:  ['4_008_1_05.png']      label =  1368\n",
      "Gallery Image:  ['1_014_1_04.png']      label =  14\n",
      "Gallery Image:  ['1_014_1_03.png']      label =  14\n",
      "Gallery Image:  ['5_032_1_04.png']      label =  1450\n",
      "Gallery Image:  ['1_051_1_05.png']      label =  51\n",
      "Gallery Image:  ['4_008_1_03.png']      label =  1368\n",
      "1 done\n",
      "Query Image:  ['1_003_2_08.png']      label =  3\n",
      "Gallery Image:  ['1_517_1_04.png']      label =  517\n",
      "Gallery Image:  ['1_235_1_01.png']      label =  235\n",
      "Gallery Image:  ['1_235_1_03.png']      label =  235\n",
      "Gallery Image:  ['5_008_2_08.png']      label =  1426\n",
      "Gallery Image:  ['1_725_1_02.png']      label =  725\n",
      "Gallery Image:  ['1_086_1_03.png']      label =  86\n",
      "Gallery Image:  ['1_051_1_04.png']      label =  51\n",
      "Gallery Image:  ['5_008_2_10.png']      label =  1426\n",
      "Gallery Image:  ['1_172_1_01.png']      label =  172\n",
      "Gallery Image:  ['1_003_1_04.png']      label =  3\n",
      "1 done\n",
      "Query Image:  ['1_006_1_02.png']      label =  6\n",
      "Gallery Image:  ['1_006_2_10.png']      label =  6\n",
      "Gallery Image:  ['1_006_2_06.png']      label =  6\n",
      "Gallery Image:  ['1_006_2_09.png']      label =  6\n",
      "Gallery Image:  ['1_006_2_07.png']      label =  6\n",
      "Gallery Image:  ['1_678_2_09.png']      label =  678\n",
      "Gallery Image:  ['1_077_1_01.png']      label =  77\n",
      "Gallery Image:  ['1_077_1_03.png']      label =  77\n",
      "Gallery Image:  ['1_678_2_08.png']      label =  678\n",
      "Gallery Image:  ['1_678_1_05.png']      label =  678\n",
      "Gallery Image:  ['1_648_1_03.png']      label =  648\n",
      "1 done\n",
      "Query Image:  ['1_006_2_08.png']      label =  6\n",
      "Gallery Image:  ['1_006_1_05.png']      label =  6\n",
      "Gallery Image:  ['1_006_1_01.png']      label =  6\n",
      "Gallery Image:  ['1_006_1_03.png']      label =  6\n",
      "Gallery Image:  ['1_006_1_04.png']      label =  6\n",
      "Gallery Image:  ['1_678_1_04.png']      label =  678\n",
      "Gallery Image:  ['1_678_2_09.png']      label =  678\n",
      "Gallery Image:  ['1_678_1_05.png']      label =  678\n",
      "Gallery Image:  ['1_678_2_08.png']      label =  678\n",
      "Gallery Image:  ['1_678_2_06.png']      label =  678\n",
      "Gallery Image:  ['1_072_1_05.png']      label =  72\n",
      "1 done\n",
      "Query Image:  ['1_007_1_02.png']      label =  7\n",
      "Gallery Image:  ['1_022_1_02.png']      label =  22\n",
      "Gallery Image:  ['1_007_2_09.png']      label =  7\n",
      "Gallery Image:  ['1_382_1_05.png']      label =  382\n",
      "Gallery Image:  ['1_022_1_03.png']      label =  22\n",
      "Gallery Image:  ['1_007_2_07.png']      label =  7\n",
      "Gallery Image:  ['1_303_1_02.png']      label =  303\n",
      "Gallery Image:  ['1_007_2_08.png']      label =  7\n",
      "Gallery Image:  ['2_011_2_06.png']      label =  854\n",
      "Gallery Image:  ['1_007_2_10.png']      label =  7\n",
      "Gallery Image:  ['1_441_1_01.png']      label =  441\n",
      "1 done\n",
      "Query Image:  ['1_007_2_06.png']      label =  7\n",
      "Gallery Image:  ['1_319_2_08.png']      label =  319\n",
      "Gallery Image:  ['1_319_2_06.png']      label =  319\n",
      "Gallery Image:  ['1_007_1_05.png']      label =  7\n",
      "Gallery Image:  ['1_319_2_07.png']      label =  319\n",
      "Gallery Image:  ['1_007_1_03.png']      label =  7\n",
      "Gallery Image:  ['1_007_1_01.png']      label =  7\n",
      "Gallery Image:  ['1_007_1_04.png']      label =  7\n",
      "Gallery Image:  ['1_319_2_09.png']      label =  319\n",
      "Gallery Image:  ['1_022_1_02.png']      label =  22\n",
      "Gallery Image:  ['1_022_1_03.png']      label =  22\n",
      "1 done\n",
      "Accuracies by Rank:\n",
      "Rank  1  = 28.57% \t Rank  2  = 42.86% \t Rank  3  = 71.43% \t Rank  4  = 71.43% \t Rank  5  = 71.43%\n",
      "Rank  6  = 71.43% \t Rank  7  = 71.43% \t Rank  8  = 71.43% \t Rank  9  = 71.43% \t Rank  10  = 85.71%\n",
      "Rank  11  = 85.71% \t Rank  12  = 85.71% \t Rank  13  = 85.71% \t Rank  14  = 85.71% \t Rank  15  = 85.71%\n",
      "Rank  16  = 85.71% \t Rank  17  = 85.71% \t Rank  18  = 85.71% \t Rank  19  = 85.71% \t Rank  20  = 85.71%\n",
      "Rank  21  = 85.71% \t Rank  22  = 85.71% \t Rank  23  = 85.71% \t Rank  24  = 85.71% \t Rank  25  = 100.00%\n",
      "Rank  26  = 100.00% \t Rank  27  = 100.00% \t Rank  28  = 100.00% \t Rank  29  = 100.00% \t Rank  30  = 100.00%\n",
      "mAP = 52.45%\n"
     ]
    }
   ],
   "source": [
    "# Square Euclidian\n",
    "rank_accuracies, mAP = evaluate_metric(X_query, camId_query, y_query,\n",
    "                                       X_gallery, camId_gallery, y_gallery,\n",
    "                                       metric = 'sqeuclidean',\n",
    "                                       parameters = None)\n",
    "\n",
    "rank_accuracies_l.append(rank_accuracies)\n",
    "mAP_l.append(mAP)\n",
    "metric_l.append('Square Euclidian')"
   ]
  },
  {
   "cell_type": "code",
   "execution_count": 16,
   "metadata": {},
   "outputs": [
    {
     "name": "stdout",
     "output_type": "stream",
     "text": [
      "1 done\n",
      "1 done\n",
      "1 done\n",
      "1 done\n",
      "1 done\n",
      "1 done\n",
      "1 done\n",
      "1 done\n"
     ]
    },
    {
     "ename": "KeyboardInterrupt",
     "evalue": "",
     "output_type": "error",
     "traceback": [
      "\u001b[0;31m---------------------------------------------------------------------------\u001b[0m",
      "\u001b[0;31mKeyboardInterrupt\u001b[0m                         Traceback (most recent call last)",
      "\u001b[0;32m<ipython-input-16-6ea20fd5b4d5>\u001b[0m in \u001b[0;36m<module>\u001b[0;34m()\u001b[0m\n\u001b[1;32m      4\u001b[0m                                        \u001b[0mX_gallery\u001b[0m\u001b[0;34m,\u001b[0m \u001b[0mcamId_gallery\u001b[0m\u001b[0;34m,\u001b[0m \u001b[0my_gallery\u001b[0m\u001b[0;34m,\u001b[0m\u001b[0;34m\u001b[0m\u001b[0m\n\u001b[1;32m      5\u001b[0m                                        \u001b[0mmetric\u001b[0m \u001b[0;34m=\u001b[0m\u001b[0;34m'earth_mov'\u001b[0m\u001b[0;34m,\u001b[0m\u001b[0;34m\u001b[0m\u001b[0m\n\u001b[0;32m----> 6\u001b[0;31m                                        parameters = None)\n\u001b[0m\u001b[1;32m      7\u001b[0m \u001b[0;34m\u001b[0m\u001b[0m\n\u001b[1;32m      8\u001b[0m \u001b[0mrank_accuracies_l\u001b[0m\u001b[0;34m.\u001b[0m\u001b[0mappend\u001b[0m\u001b[0;34m(\u001b[0m\u001b[0mrank_accuracies\u001b[0m\u001b[0;34m)\u001b[0m\u001b[0;34m\u001b[0m\u001b[0m\n",
      "\u001b[0;32m<ipython-input-12-adfb6d177241>\u001b[0m in \u001b[0;36mevaluate_metric\u001b[0;34m(X_query, camId_query, y_query, X_gallery, camId_gallery, y_gallery, metric, parameters)\u001b[0m\n\u001b[1;32m     24\u001b[0m                     \u001b[0mdist\u001b[0m \u001b[0;34m=\u001b[0m \u001b[0mdistance\u001b[0m\u001b[0;34m.\u001b[0m\u001b[0msqeuclidean\u001b[0m\u001b[0;34m(\u001b[0m\u001b[0mquery\u001b[0m\u001b[0;34m,\u001b[0m \u001b[0mgallery\u001b[0m\u001b[0;34m)\u001b[0m\u001b[0;34m\u001b[0m\u001b[0m\n\u001b[1;32m     25\u001b[0m                 \u001b[0;32melif\u001b[0m \u001b[0mmetric\u001b[0m \u001b[0;34m==\u001b[0m \u001b[0;34m'earth_mov'\u001b[0m\u001b[0;34m:\u001b[0m\u001b[0;34m\u001b[0m\u001b[0m\n\u001b[0;32m---> 26\u001b[0;31m                     \u001b[0mdist\u001b[0m \u001b[0;34m=\u001b[0m \u001b[0mwasserstein_distance\u001b[0m\u001b[0;34m(\u001b[0m\u001b[0mquery\u001b[0m\u001b[0;34m,\u001b[0m \u001b[0mgallery\u001b[0m\u001b[0;34m)\u001b[0m\u001b[0;34m\u001b[0m\u001b[0m\n\u001b[0m\u001b[1;32m     27\u001b[0m                 \u001b[0;32melif\u001b[0m \u001b[0mmetric\u001b[0m \u001b[0;34m==\u001b[0m \u001b[0;34m'mahalanobis'\u001b[0m\u001b[0;34m:\u001b[0m\u001b[0;34m\u001b[0m\u001b[0m\n\u001b[1;32m     28\u001b[0m                     \u001b[0mdist\u001b[0m \u001b[0;34m=\u001b[0m \u001b[0mdistance\u001b[0m\u001b[0;34m.\u001b[0m\u001b[0mmahalanobis\u001b[0m\u001b[0;34m(\u001b[0m\u001b[0mquery\u001b[0m\u001b[0;34m,\u001b[0m \u001b[0mgallery\u001b[0m\u001b[0;34m,\u001b[0m \u001b[0mparameters\u001b[0m\u001b[0;34m)\u001b[0m\u001b[0;34m\u001b[0m\u001b[0m\n",
      "\u001b[0;32m/anaconda3/lib/python3.6/site-packages/scipy/stats/stats.py\u001b[0m in \u001b[0;36mwasserstein_distance\u001b[0;34m(u_values, v_values, u_weights, v_weights)\u001b[0m\n\u001b[1;32m   5319\u001b[0m     \u001b[0;36m4.0781331438047861\u001b[0m\u001b[0;34m\u001b[0m\u001b[0m\n\u001b[1;32m   5320\u001b[0m     \"\"\"\n\u001b[0;32m-> 5321\u001b[0;31m     \u001b[0;32mreturn\u001b[0m \u001b[0m_cdf_distance\u001b[0m\u001b[0;34m(\u001b[0m\u001b[0;36m1\u001b[0m\u001b[0;34m,\u001b[0m \u001b[0mu_values\u001b[0m\u001b[0;34m,\u001b[0m \u001b[0mv_values\u001b[0m\u001b[0;34m,\u001b[0m \u001b[0mu_weights\u001b[0m\u001b[0;34m,\u001b[0m \u001b[0mv_weights\u001b[0m\u001b[0;34m)\u001b[0m\u001b[0;34m\u001b[0m\u001b[0m\n\u001b[0m\u001b[1;32m   5322\u001b[0m \u001b[0;34m\u001b[0m\u001b[0m\n\u001b[1;32m   5323\u001b[0m \u001b[0;34m\u001b[0m\u001b[0m\n",
      "\u001b[0;32m/anaconda3/lib/python3.6/site-packages/scipy/stats/stats.py\u001b[0m in \u001b[0;36m_cdf_distance\u001b[0;34m(p, u_values, v_values, u_weights, v_weights)\u001b[0m\n\u001b[1;32m   5461\u001b[0m     \u001b[0;31m# Get the repective positions of the values of u and v among the values of\u001b[0m\u001b[0;34m\u001b[0m\u001b[0;34m\u001b[0m\u001b[0m\n\u001b[1;32m   5462\u001b[0m     \u001b[0;31m# both distributions.\u001b[0m\u001b[0;34m\u001b[0m\u001b[0;34m\u001b[0m\u001b[0m\n\u001b[0;32m-> 5463\u001b[0;31m     \u001b[0mu_cdf_indices\u001b[0m \u001b[0;34m=\u001b[0m \u001b[0mu_values\u001b[0m\u001b[0;34m[\u001b[0m\u001b[0mu_sorter\u001b[0m\u001b[0;34m]\u001b[0m\u001b[0;34m.\u001b[0m\u001b[0msearchsorted\u001b[0m\u001b[0;34m(\u001b[0m\u001b[0mall_values\u001b[0m\u001b[0;34m[\u001b[0m\u001b[0;34m:\u001b[0m\u001b[0;34m-\u001b[0m\u001b[0;36m1\u001b[0m\u001b[0;34m]\u001b[0m\u001b[0;34m,\u001b[0m \u001b[0;34m'right'\u001b[0m\u001b[0;34m)\u001b[0m\u001b[0;34m\u001b[0m\u001b[0m\n\u001b[0m\u001b[1;32m   5464\u001b[0m     \u001b[0mv_cdf_indices\u001b[0m \u001b[0;34m=\u001b[0m \u001b[0mv_values\u001b[0m\u001b[0;34m[\u001b[0m\u001b[0mv_sorter\u001b[0m\u001b[0;34m]\u001b[0m\u001b[0;34m.\u001b[0m\u001b[0msearchsorted\u001b[0m\u001b[0;34m(\u001b[0m\u001b[0mall_values\u001b[0m\u001b[0;34m[\u001b[0m\u001b[0;34m:\u001b[0m\u001b[0;34m-\u001b[0m\u001b[0;36m1\u001b[0m\u001b[0;34m]\u001b[0m\u001b[0;34m,\u001b[0m \u001b[0;34m'right'\u001b[0m\u001b[0;34m)\u001b[0m\u001b[0;34m\u001b[0m\u001b[0m\n\u001b[1;32m   5465\u001b[0m \u001b[0;34m\u001b[0m\u001b[0m\n",
      "\u001b[0;31mKeyboardInterrupt\u001b[0m: "
     ]
    }
   ],
   "source": [
    "# Earth_Mov\n",
    "\n",
    "rank_accuracies, mAP = evaluate_metric(X_query, camId_query, y_query,\n",
    "                                       X_gallery, camId_gallery, y_gallery,\n",
    "                                       metric ='earth_mov',\n",
    "                                       parameters = None)\n",
    "\n",
    "rank_accuracies_l.append(rank_accuracies)\n",
    "mAP_l.append(mAP)\n",
    "metric_l.append('Cosine')"
   ]
  },
  {
   "cell_type": "code",
   "execution_count": 24,
   "metadata": {},
   "outputs": [
    {
     "data": {
      "text/plain": [
       "<matplotlib.legend.Legend at 0x1a2bfdafd0>"
      ]
     },
     "execution_count": 24,
     "metadata": {},
     "output_type": "execute_result"
    },
    {
     "data": {
      "image/png": "[encoded data removed]",
      "text/plain": [
       "<matplotlib.figure.Figure at 0x104c424e0>"
      ]
     },
     "metadata": {},
     "output_type": "display_data"
    }
   ],
   "source": [
    "plt.figure(figsize=(8.0, 6.0))\n",
    "color_list = ['green', 'blue', 'red', 'purple', 'orange', 'magenta', 'cyan', 'black', 'indianred', 'lightseagreen', 'gold', 'lightgreen']\n",
    "for i in range(len(metric_l)):\n",
    "    plt.plot(np.arange(1, 31), 100*rank_accuracies_l[i], color=color_list[i], linestyle='dashed', label='Metric: '+ metric_l[i])\n",
    "\n",
    "plt.title('CMC Curves for a range of standard distance metrics')\n",
    "plt.xlabel('Rank')\n",
    "plt.ylabel('Recogniton Accuracy / %')\n",
    "plt.legend(loc='best')"
   ]
  },
  {
   "cell_type": "code",
   "execution_count": 1,
   "metadata": {},
   "outputs": [
    {
     "ename": "NameError",
     "evalue": "name 'plt' is not defined",
     "output_type": "error",
     "traceback": [
      "\u001b[0;31m---------------------------------------------------------------------------\u001b[0m",
      "\u001b[0;31mNameError\u001b[0m                                 Traceback (most recent call last)",
      "\u001b[0;32m<ipython-input-1-8ae79b40bfa9>\u001b[0m in \u001b[0;36m<module>\u001b[0;34m()\u001b[0m\n\u001b[0;32m----> 1\u001b[0;31m \u001b[0mplt\u001b[0m\u001b[0;34m.\u001b[0m\u001b[0mfigure\u001b[0m\u001b[0;34m(\u001b[0m\u001b[0mfigsize\u001b[0m\u001b[0;34m=\u001b[0m\u001b[0;34m(\u001b[0m\u001b[0;36m8.0\u001b[0m\u001b[0;34m,\u001b[0m \u001b[0;36m6.0\u001b[0m\u001b[0;34m)\u001b[0m\u001b[0;34m)\u001b[0m\u001b[0;34m\u001b[0m\u001b[0m\n\u001b[0m\u001b[1;32m      2\u001b[0m \u001b[0mcolor_list\u001b[0m \u001b[0;34m=\u001b[0m \u001b[0;34m[\u001b[0m\u001b[0;34m'green'\u001b[0m\u001b[0;34m,\u001b[0m \u001b[0;34m'blue'\u001b[0m\u001b[0;34m,\u001b[0m \u001b[0;34m'red'\u001b[0m\u001b[0;34m,\u001b[0m \u001b[0;34m'purple'\u001b[0m\u001b[0;34m,\u001b[0m \u001b[0;34m'orange'\u001b[0m\u001b[0;34m,\u001b[0m \u001b[0;34m'magenta'\u001b[0m\u001b[0;34m,\u001b[0m \u001b[0;34m'cyan'\u001b[0m\u001b[0;34m,\u001b[0m \u001b[0;34m'black'\u001b[0m\u001b[0;34m,\u001b[0m \u001b[0;34m'indianred'\u001b[0m\u001b[0;34m,\u001b[0m \u001b[0;34m'lightseagreen'\u001b[0m\u001b[0;34m,\u001b[0m \u001b[0;34m'gold'\u001b[0m\u001b[0;34m,\u001b[0m \u001b[0;34m'lightgreen'\u001b[0m\u001b[0;34m]\u001b[0m\u001b[0;34m\u001b[0m\u001b[0m\n\u001b[1;32m      3\u001b[0m \u001b[0;32mfor\u001b[0m \u001b[0mi\u001b[0m \u001b[0;32min\u001b[0m \u001b[0mrange\u001b[0m\u001b[0;34m(\u001b[0m\u001b[0mlen\u001b[0m\u001b[0;34m(\u001b[0m\u001b[0mmetric_l\u001b[0m\u001b[0;34m)\u001b[0m\u001b[0;34m)\u001b[0m\u001b[0;34m:\u001b[0m\u001b[0;34m\u001b[0m\u001b[0m\n\u001b[1;32m      4\u001b[0m     \u001b[0mplt\u001b[0m\u001b[0;34m.\u001b[0m\u001b[0mplot\u001b[0m\u001b[0;34m(\u001b[0m\u001b[0mnp\u001b[0m\u001b[0;34m.\u001b[0m\u001b[0marange\u001b[0m\u001b[0;34m(\u001b[0m\u001b[0;36m1\u001b[0m\u001b[0;34m,\u001b[0m \u001b[0;36m31\u001b[0m\u001b[0;34m)\u001b[0m\u001b[0;34m,\u001b[0m \u001b[0mrank_accuracies_l\u001b[0m\u001b[0;34m[\u001b[0m\u001b[0mi\u001b[0m\u001b[0;34m]\u001b[0m\u001b[0;34m,\u001b[0m \u001b[0mcolor\u001b[0m\u001b[0;34m=\u001b[0m\u001b[0mcolor_list\u001b[0m\u001b[0;34m[\u001b[0m\u001b[0mi\u001b[0m\u001b[0;34m]\u001b[0m\u001b[0;34m,\u001b[0m \u001b[0mlinestyle\u001b[0m\u001b[0;34m=\u001b[0m\u001b[0;34m'dashed'\u001b[0m\u001b[0;34m,\u001b[0m \u001b[0mlabel\u001b[0m\u001b[0;34m=\u001b[0m\u001b[0;34m'Metric: '\u001b[0m\u001b[0;34m+\u001b[0m \u001b[0mmetric_l\u001b[0m\u001b[0;34m[\u001b[0m\u001b[0mi\u001b[0m\u001b[0;34m]\u001b[0m\u001b[0;34m)\u001b[0m\u001b[0;34m\u001b[0m\u001b[0m\n\u001b[1;32m      5\u001b[0m \u001b[0;34m\u001b[0m\u001b[0m\n",
      "\u001b[0;31mNameError\u001b[0m: name 'plt' is not defined"
     ]
    }
   ],
   "source": [
    "plt.figure(figsize=(8.0, 6.0))\n",
    "color_list = ['green', 'blue', 'red', 'purple', 'orange', 'magenta', 'cyan', 'black', 'indianred', 'lightseagreen', 'gold', 'lightgreen']\n",
    "for i in range(len(metric_l)):\n",
    "    plt.plot(np.arange(1, 31), 100*rank_accuracies_l[i], color=color_list[i], linestyle='dashed', label='Metric: '+ metric_l[i])\n",
    "\n",
    "plt.title('CMC Curves for a range of standard distance metrics')\n",
    "plt.xlabel('Rank')\n",
    "plt.ylabel('Recogniton Accuracy / %')\n",
    "plt.legend(loc='best')"
   ]
  },
  {
   "cell_type": "code",
   "execution_count": null,
   "metadata": {},
   "outputs": [],
   "source": []
  }
 ],
 "metadata": {
  "kernelspec": {
   "display_name": "Python 3",
   "language": "python",
   "name": "python3"
  },
  "language_info": {
   "codemirror_mode": {
    "name": "ipython",
    "version": 3
   },
   "file_extension": ".py",
   "mimetype": "text/x-python",
   "name": "python",
   "nbconvert_exporter": "python",
   "pygments_lexer": "ipython3",
   "version": "3.6.4"
  }
 },
 "nbformat": 4,
 "nbformat_minor": 2
}
