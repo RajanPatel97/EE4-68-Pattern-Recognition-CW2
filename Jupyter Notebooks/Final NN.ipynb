{
 "cells": [
  {
   "cell_type": "code",
   "execution_count": 1,
   "metadata": {},
   "outputs": [],
   "source": [
    "import numpy as np\n",
    "import random\n",
    "from scipy.spatial import distance\n",
    "from sklearn.preprocessing import StandardScaler\n",
    "\n",
    "\n",
    "#Store Data Variables\n",
    "import json\n",
    "with open('feature_data.json', 'r') as f:\n",
    " features = json.load(f)\n",
    "\n",
    "from scipy.io import loadmat\n",
    "train_idxs = loadmat('cuhk03_new_protocol_config_labeled.mat')['train_idx'].flatten()\n",
    "query_idxs = loadmat('cuhk03_new_protocol_config_labeled.mat')['query_idx'].flatten()\n",
    "labels = loadmat('cuhk03_new_protocol_config_labeled.mat')['labels'].flatten()\n",
    "gallery_idxs = loadmat('cuhk03_new_protocol_config_labeled.mat')['gallery_idx'].flatten()\n",
    "filelist = loadmat('cuhk03_new_protocol_config_labeled.mat')['filelist'].flatten()\n",
    "camId = loadmat('cuhk03_new_protocol_config_labeled.mat')['camId'].flatten()"
   ]
  },
  {
   "cell_type": "code",
   "execution_count": 2,
   "metadata": {},
   "outputs": [
    {
     "data": {
      "text/plain": [
       "array([    1,     2,     3, ..., 14094, 14095, 14096], dtype=uint16)"
      ]
     },
     "execution_count": 2,
     "metadata": {},
     "output_type": "execute_result"
    }
   ],
   "source": [
    "#train_idxs"
   ]
  },
  {
   "cell_type": "code",
   "execution_count": 3,
   "metadata": {},
   "outputs": [
    {
     "data": {
      "text/plain": [
       "array([   22,    27,    49, ..., 14043, 14059, 14063], dtype=uint16)"
      ]
     },
     "execution_count": 3,
     "metadata": {},
     "output_type": "execute_result"
    }
   ],
   "source": [
    "#query_idxs"
   ]
  },
  {
   "cell_type": "code",
   "execution_count": 4,
   "metadata": {},
   "outputs": [
    {
     "data": {
      "text/plain": [
       "array([   1,    1,    1, ..., 1467, 1467, 1467], dtype=uint16)"
      ]
     },
     "execution_count": 4,
     "metadata": {},
     "output_type": "execute_result"
    }
   ],
   "source": [
    "#labels"
   ]
  },
  {
   "cell_type": "code",
   "execution_count": 5,
   "metadata": {},
   "outputs": [
    {
     "data": {
      "text/plain": [
       "array([   21,    23,    24, ..., 14062, 14064, 14065], dtype=uint16)"
      ]
     },
     "execution_count": 5,
     "metadata": {},
     "output_type": "execute_result"
    }
   ],
   "source": [
    "#gallery_idxs"
   ]
  },
  {
   "cell_type": "code",
   "execution_count": 6,
   "metadata": {},
   "outputs": [
    {
     "data": {
      "text/plain": [
       "array([array(['1_001_1_01.png'], dtype='<U14'),\n",
       "       array(['1_001_1_02.png'], dtype='<U14'),\n",
       "       array(['1_001_1_03.png'], dtype='<U14'), ...,\n",
       "       array(['5_049_2_08.png'], dtype='<U14'),\n",
       "       array(['5_049_2_09.png'], dtype='<U14'),\n",
       "       array(['5_049_2_10.png'], dtype='<U14')], dtype=object)"
      ]
     },
     "execution_count": 6,
     "metadata": {},
     "output_type": "execute_result"
    }
   ],
   "source": [
    "#filelist"
   ]
  },
  {
   "cell_type": "code",
   "execution_count": 7,
   "metadata": {},
   "outputs": [
    {
     "data": {
      "text/plain": [
       "array([1, 1, 1, ..., 2, 2, 2], dtype=uint8)"
      ]
     },
     "execution_count": 7,
     "metadata": {},
     "output_type": "execute_result"
    }
   ],
   "source": [
    "#camId"
   ]
  },
  {
   "cell_type": "code",
   "execution_count": 8,
   "metadata": {},
   "outputs": [],
   "source": [
    "#grid searc cv against k, distance metric and transformation/normalization - use only query and gallery for this part "
   ]
  },
  {
   "cell_type": "code",
   "execution_count": 9,
   "metadata": {},
   "outputs": [
    {
     "name": "stdout",
     "output_type": "stream",
     "text": [
      "[[0.13791114 1.12505555 0.05404324 ... 0.10747871 0.04081609 0.68009406]\n",
      " [0.02507781 0.9057585  0.00346441 ... 0.16763815 0.14764351 0.2700713 ]\n",
      " [0.09923808 1.09122825 0.01889733 ... 0.07981343 0.04958951 0.37923682]\n",
      " ...\n",
      " [0.50913167 2.1067946  1.12224829 ... 0.78767842 1.68007588 0.00259321]\n",
      " [0.44684452 1.87411916 1.51910186 ... 1.02090526 1.58616257 0.10876646]\n",
      " [0.46024311 2.31024432 1.20531154 ... 0.62753201 1.22394812 0.        ]]\n",
      "[[0.13791114 1.12505555 0.05404324 ... 0.10747871 0.04081609 0.68009406]\n",
      " [0.02507781 0.9057585  0.00346441 ... 0.16763815 0.14764351 0.2700713 ]\n",
      " [0.09923808 1.09122825 0.01889733 ... 0.07981343 0.04958951 0.37923682]\n",
      " ...\n",
      " [0.50913167 2.1067946  1.12224829 ... 0.78767842 1.68007588 0.00259321]\n",
      " [0.44684452 1.87411916 1.51910186 ... 1.02090526 1.58616257 0.10876646]\n",
      " [0.46024311 2.31024432 1.20531154 ... 0.62753201 1.22394812 0.        ]]\n"
     ]
    }
   ],
   "source": [
    "#scaler = StandardScaler()\n",
    "print(np.array(features))\n",
    "#features = scaler.fit_transform(features)\n",
    "X = np.array(features)\n",
    "y = np.array(labels)\n",
    "filelist = np.array(filelist)\n",
    "camId = np.array(camId)"
   ]
  },
  {
   "cell_type": "code",
   "execution_count": 10,
   "metadata": {},
   "outputs": [],
   "source": [
    "mask_train = np.array(train_idxs).ravel()\n",
    "mask_query = np.array(query_idxs).ravel()\n",
    "mask_gallery = np.array(gallery_idxs).ravel()\n",
    "\n",
    "mask_train = np.subtract(mask_train, 1)\n",
    "mask_query = np.subtract(mask_query, 1)\n",
    "mask_gallery = np.subtract(mask_gallery, 1)\n",
    "\n",
    "\n",
    "X_train, X_query, X_gallery = X[mask_train, :], X[mask_query, :], X[mask_gallery, :]\n",
    "y_train, y_query, y_gallery = y[mask_train], y[mask_query], y[mask_gallery]\n",
    "filelist_train, filelist_query, filelist_gallery = filelist[mask_train], filelist[mask_query], filelist[mask_gallery]\n",
    "camId_train, camId_query, camId_gallery = camId[mask_train], camId[mask_query], camId[mask_gallery]"
   ]
  },
  {
   "cell_type": "code",
   "execution_count": 11,
   "metadata": {},
   "outputs": [
    {
     "data": {
      "text/plain": [
       "7368"
      ]
     },
     "execution_count": 11,
     "metadata": {},
     "output_type": "execute_result"
    }
   ],
   "source": [
    "#len(X_train)"
   ]
  },
  {
   "cell_type": "code",
   "execution_count": 12,
   "metadata": {},
   "outputs": [
    {
     "data": {
      "text/plain": [
       "767"
      ]
     },
     "execution_count": 12,
     "metadata": {},
     "output_type": "execute_result"
    }
   ],
   "source": [
    "#len(set(y_train))"
   ]
  },
  {
   "cell_type": "code",
   "execution_count": 13,
   "metadata": {},
   "outputs": [
    {
     "data": {
      "text/plain": [
       "1400"
      ]
     },
     "execution_count": 13,
     "metadata": {},
     "output_type": "execute_result"
    }
   ],
   "source": [
    "#len(X_query)"
   ]
  },
  {
   "cell_type": "code",
   "execution_count": 14,
   "metadata": {},
   "outputs": [
    {
     "data": {
      "text/plain": [
       "5328"
      ]
     },
     "execution_count": 14,
     "metadata": {},
     "output_type": "execute_result"
    }
   ],
   "source": [
    "#len(X_gallery)"
   ]
  },
  {
   "cell_type": "code",
   "execution_count": 15,
   "metadata": {},
   "outputs": [
    {
     "data": {
      "text/plain": [
       "7368"
      ]
     },
     "execution_count": 15,
     "metadata": {},
     "output_type": "execute_result"
    }
   ],
   "source": [
    "#len(y_train)"
   ]
  },
  {
   "cell_type": "code",
   "execution_count": 16,
   "metadata": {},
   "outputs": [
    {
     "name": "stderr",
     "output_type": "stream",
     "text": [
      "C:\\Users\\User\\Anaconda3\\lib\\site-packages\\h5py\\__init__.py:36: FutureWarning: Conversion of the second argument of issubdtype from `float` to `np.floating` is deprecated. In future, it will be treated as `np.float64 == np.dtype(float).type`.\n",
      "  from ._conv import register_converters as _register_converters\n",
      "Using TensorFlow backend.\n"
     ]
    }
   ],
   "source": [
    "import pandas as pd \n",
    "import numpy as np\n",
    "\n",
    "from keras import layers, optimizers, regularizers\n",
    "from keras.layers import Dense, Dropout, BatchNormalization, Activation\n",
    "from keras.models import Sequential\n",
    "\n",
    "from keras.utils import plot_model\n",
    "#from kt_utils import *\n",
    "import keras.backend as K\n",
    "\n",
    "from sklearn import preprocessing, model_selection \n",
    "from keras.wrappers.scikit_learn import KerasRegressor"
   ]
  },
  {
   "cell_type": "code",
   "execution_count": 17,
   "metadata": {},
   "outputs": [],
   "source": [
    "# create model\n",
    "model = Sequential()\n",
    "# layer 1\n",
    "model.add(Dense(6144, input_dim=6144, activation='relu', kernel_initializer='normal'))\n",
    "#layer 2\n",
    "model.add(Dense(1024, activation='relu', kernel_initializer='normal'))\n",
    "model.add(BatchNormalization())\n",
    "model.add(Dropout(0.5))\n",
    "#layer 3\n",
    "model.add(Dense(128, activation='relu',kernel_initializer='normal'))\n",
    "model.add(BatchNormalization())\n",
    "model.add(Dropout(0.5))\n",
    "#layer 4\n",
    "model.add(Dense(2, activation='softmax'))\n",
    "# Compile model\n",
    "from keras import metrics\n",
    "#optimizer = optimizers.SGD(lr=0.001, decay=1e-6, momentum=0.9, nesterov= False)\n",
    "optimizer = optimizers.Adam(lr=0.001, beta_1=0.9, beta_2=0.999, epsilon=1e-08, decay=0.0)\n",
    "model.compile(optimizer = optimizer, loss='categorical_crossentropy') "
   ]
  },
  {
   "cell_type": "code",
   "execution_count": 18,
   "metadata": {},
   "outputs": [
    {
     "name": "stdout",
     "output_type": "stream",
     "text": [
      "Epoch 1/20\n",
      "70784/70784 [==============================] - 300s 4ms/step - loss: 0.1076\n",
      "Epoch 2/20\n",
      "70784/70784 [==============================] - 265s 4ms/step - loss: 0.0117\n",
      "Epoch 3/20\n",
      "70784/70784 [==============================] - 267s 4ms/step - loss: 0.0090\n",
      "Epoch 4/20\n",
      "70784/70784 [==============================] - 267s 4ms/step - loss: 0.0082\n",
      "Epoch 5/20\n",
      "70784/70784 [==============================] - 265s 4ms/step - loss: 0.0047\n",
      "Epoch 6/20\n",
      "70784/70784 [==============================] - 268s 4ms/step - loss: 0.0047\n",
      "Epoch 7/20\n",
      "70784/70784 [==============================] - 268s 4ms/step - loss: 0.0057\n",
      "Epoch 8/20\n",
      "70784/70784 [==============================] - 269s 4ms/step - loss: 0.0038\n",
      "Epoch 9/20\n",
      "70784/70784 [==============================] - 270s 4ms/step - loss: 0.0048\n",
      "Epoch 10/20\n",
      "70784/70784 [==============================] - 264s 4ms/step - loss: 0.0040\n",
      "Epoch 11/20\n",
      "70784/70784 [==============================] - 265s 4ms/step - loss: 0.0042\n",
      "Epoch 12/20\n",
      "70784/70784 [==============================] - 264s 4ms/step - loss: 0.0033\n",
      "Epoch 13/20\n",
      "70784/70784 [==============================] - 270s 4ms/step - loss: 0.0037\n",
      "Epoch 14/20\n",
      "70784/70784 [==============================] - 267s 4ms/step - loss: 0.0027\n",
      "Epoch 15/20\n",
      "70784/70784 [==============================] - 267s 4ms/step - loss: 0.0024\n",
      "Epoch 16/20\n",
      "70784/70784 [==============================] - 269s 4ms/step - loss: 0.0028\n",
      "Epoch 17/20\n",
      "70784/70784 [==============================] - 268s 4ms/step - loss: 0.0032\n",
      "Epoch 18/20\n",
      "70784/70784 [==============================] - 270s 4ms/step - loss: 0.0027\n",
      "Epoch 19/20\n",
      "70784/70784 [==============================] - 266s 4ms/step - loss: 0.0013\n",
      "Epoch 20/20\n",
      "70784/70784 [==============================] - 268s 4ms/step - loss: 0.0022\n"
     ]
    },
    {
     "data": {
      "text/plain": [
       "<keras.callbacks.History at 0x2650a233438>"
      ]
     },
     "execution_count": 18,
     "metadata": {},
     "output_type": "execute_result"
    }
   ],
   "source": [
    "X_train_pairs = []\n",
    "y_train_pair_lables = []\n",
    "for Xtnn, ytnn, camId_t in zip(X_train, y_train, camId_train):\n",
    "    for Xtnn2, ytnn2, camId_t2 in zip(X_train, y_train, camId_train):\n",
    "        if ((camId_t == camId_t2) and (ytnn == ytnn2)):\n",
    "            continue\n",
    "        elif (ytnn == ytnn2):\n",
    "            #for i in range (30):\n",
    "            randindex = random.randint(0, 6401)\n",
    "            Xtnn3 = X_train[randindex]\n",
    "            ytnn3 = y_train[randindex]                 \n",
    "\n",
    "            dist2 = 0\n",
    "            if(ytnn == ytnn3):\n",
    "                dist3 = 0\n",
    "            else:\n",
    "                dist3 = 1\n",
    "\n",
    "            Xconcat = np.concatenate((Xtnn,Xtnn2,Xtnn3), axis = None)\n",
    "            X_train_pairs.append(Xconcat)\n",
    "            y_train_pair_lables.append((dist2,dist3))   \n",
    "\n",
    "            Xconcat = np.concatenate((Xtnn,Xtnn3,Xtnn2), axis = None)\n",
    "            X_train_pairs.append(Xconcat)\n",
    "            y_train_pair_lables.append((dist3,dist2)) \n",
    "\n",
    "y_train_pair_lables = np.array(y_train_pair_lables)\n",
    "X_train_pairs = np.array(X_train_pairs)\n",
    "model.fit(X_train_pairs, y_train_pair_lables, batch_size = 150, epochs=20)"
   ]
  },
  {
   "cell_type": "code",
   "execution_count": 19,
   "metadata": {},
   "outputs": [],
   "source": [
    "def get_acc_score(y_valid, y_q, tot_label_occur):\n",
    "    recall = 0\n",
    "    true_positives = 0\n",
    "    \n",
    "    k = 0\n",
    "    \n",
    "    max_rank = 30\n",
    "    \n",
    "    rank_A = np.zeros(max_rank)\n",
    "    AP_arr = np.zeros(11)\n",
    "    \n",
    "    while (recall < 1) or (k < max_rank):\n",
    "        if (y_valid[k] == y_q):\n",
    "            \n",
    "            true_positives = true_positives + 1\n",
    "            recall = true_positives/tot_label_occur\n",
    "            precision = true_positives/(k+1)\n",
    "            \n",
    "            AP_arr[round((recall-0.05)*10)] = precision\n",
    "            \n",
    "            for n in range (k, max_rank):\n",
    "                rank_A[n] = 1\n",
    "            \n",
    "        k = k+1\n",
    "        \n",
    "    max_precision = 0\n",
    "    for i in range(10, -1, -1):\n",
    "        max_precision = max(max_precision, AP_arr[i])\n",
    "        AP_arr[i] = max_precision\n",
    "    \n",
    "    AP_ = AP_arr.sum()/11\n",
    "    \n",
    "    return AP_, rank_A"
   ]
  },
  {
   "cell_type": "code",
   "execution_count": null,
   "metadata": {
    "scrolled": true
   },
   "outputs": [
    {
     "name": "stdout",
     "output_type": "stream",
     "text": [
      "[5.0233727e-11 8.1137895e-11 9.5148345e-10 ... 1.0000000e+00 1.0000000e+00\n",
      " 1.0000000e+00]\n",
      "[2.8700351e-09 3.2866978e-09 9.9557873e-09 ... 1.0000000e+00 1.0000000e+00\n",
      " 1.0000000e+00]\n",
      "[1.2381496e-10 2.8080663e-10 1.1443680e-09 ... 1.0000000e+00 1.0000000e+00\n",
      " 1.0000000e+00]\n",
      "[6.7580688e-09 2.1555156e-08 4.1491074e-08 ... 1.0000000e+00 1.0000000e+00\n",
      " 1.0000000e+00]\n",
      "[4.5438364e-10 2.0828789e-08 3.4788705e-08 ... 1.0000000e+00 1.0000000e+00\n",
      " 1.0000000e+00]\n",
      "[1.3292725e-11 5.3739051e-11 6.0368606e-11 ... 1.0000000e+00 1.0000000e+00\n",
      " 1.0000000e+00]\n",
      "[1.0353378e-10 1.3309426e-10 1.4738374e-10 ... 1.0000000e+00 1.0000000e+00\n",
      " 1.0000000e+00]\n",
      "[2.6903089e-12 1.3600013e-11 1.7607321e-10 ... 1.0000000e+00 1.0000000e+00\n",
      " 1.0000000e+00]\n",
      "[4.6050459e-08 8.5439632e-07 1.1167148e-06 ... 1.0000000e+00 1.0000000e+00\n",
      " 1.0000000e+00]\n",
      "[4.6135565e-08 1.2002999e-07 2.4387771e-07 ... 1.0000000e+00 1.0000000e+00\n",
      " 1.0000000e+00]\n",
      "[1.4704302e-08 2.0861231e-08 2.9291895e-08 ... 1.0000000e+00 1.0000000e+00\n",
      " 1.0000000e+00]\n",
      "[3.6519873e-10 4.4058122e-09 6.3405707e-09 ... 1.0000000e+00 1.0000000e+00\n",
      " 1.0000000e+00]\n",
      "[3.6524650e-08 5.5310430e-08 1.1779937e-07 ... 1.0000000e+00 1.0000000e+00\n",
      " 1.0000000e+00]\n",
      "[1.7651700e-11 1.6330891e-10 5.6960203e-10 ... 1.0000000e+00 1.0000000e+00\n",
      " 1.0000000e+00]\n",
      "[1.4492743e-08 8.7545743e-08 1.4782597e-07 ... 1.0000000e+00 1.0000000e+00\n",
      " 1.0000000e+00]\n",
      "[1.4797887e-07 9.4815056e-07 2.1066430e-06 ... 1.0000000e+00 1.0000000e+00\n",
      " 1.0000000e+00]\n",
      "[1.4703825e-08 2.2014277e-08 3.0793231e-08 ... 1.0000000e+00 1.0000000e+00\n",
      " 1.0000000e+00]\n",
      "[3.4434561e-10 5.1291293e-10 1.3320403e-09 ... 1.0000000e+00 1.0000000e+00\n",
      " 1.0000000e+00]\n",
      "[1.5704464e-09 2.8171177e-09 1.3606391e-08 ... 1.0000000e+00 1.0000000e+00\n",
      " 1.0000000e+00]\n",
      "[1.0687807e-08 1.1638784e-08 1.6251239e-08 ... 1.0000000e+00 1.0000000e+00\n",
      " 1.0000000e+00]\n",
      "[4.461487e-10 5.300593e-10 7.812297e-10 ... 1.000000e+00 1.000000e+00\n",
      " 1.000000e+00]\n",
      "[4.2267750e-10 4.4636765e-09 6.9265180e-09 ... 1.0000000e+00 1.0000000e+00\n",
      " 1.0000000e+00]\n",
      "[6.2603954e-07 6.9116209e-07 6.9449084e-07 ... 1.0000000e+00 1.0000000e+00\n",
      " 1.0000000e+00]\n",
      "[2.0361061e-10 2.1585713e-09 2.8688805e-09 ... 1.0000000e+00 1.0000000e+00\n",
      " 1.0000000e+00]\n",
      "[1.9273386e-06 2.8302875e-06 4.5611350e-06 ... 1.0000000e+00 1.0000000e+00\n",
      " 1.0000000e+00]\n",
      "[5.8530094e-07 6.4564739e-07 6.8625843e-07 ... 1.0000000e+00 1.0000000e+00\n",
      " 1.0000000e+00]\n",
      "[3.7015255e-10 1.9366965e-08 2.9614181e-08 ... 1.0000000e+00 1.0000000e+00\n",
      " 1.0000000e+00]\n",
      "[1.2819590e-09 5.2194626e-09 1.7575264e-08 ... 1.0000000e+00 1.0000000e+00\n",
      " 1.0000000e+00]\n",
      "[4.2764157e-08 4.4492715e-08 1.0662198e-07 ... 1.0000000e+00 1.0000000e+00\n",
      " 1.0000000e+00]\n",
      "[3.4214491e-08 9.2261480e-08 1.0798894e-07 ... 1.0000000e+00 1.0000000e+00\n",
      " 1.0000000e+00]\n",
      "[1.5743835e-10 2.5080527e-10 7.3428524e-10 ... 1.0000000e+00 1.0000000e+00\n",
      " 1.0000000e+00]\n",
      "[6.5939521e-10 7.2667001e-09 1.6678817e-08 ... 1.0000000e+00 1.0000000e+00\n",
      " 1.0000000e+00]\n",
      "[6.2552727e-09 9.5768167e-09 1.0369000e-08 ... 1.0000000e+00 1.0000000e+00\n",
      " 1.0000000e+00]\n",
      "[1.0538924e-11 7.3328829e-11 1.7308378e-10 ... 1.0000000e+00 1.0000000e+00\n",
      " 1.0000000e+00]\n",
      "[1.4102142e-09 4.6608735e-09 5.5733045e-09 ... 1.0000000e+00 1.0000000e+00\n",
      " 1.0000000e+00]\n",
      "[2.2868814e-10 1.7531832e-09 2.1298860e-09 ... 1.0000000e+00 1.0000000e+00\n",
      " 1.0000000e+00]\n",
      "[3.7284337e-08 3.7425483e-08 6.8786640e-08 ... 1.0000000e+00 1.0000000e+00\n",
      " 1.0000000e+00]\n",
      "[7.2525208e-09 2.6692664e-08 4.3956916e-08 ... 1.0000000e+00 1.0000000e+00\n",
      " 1.0000000e+00]\n",
      "[1.3667215e-10 9.5168318e-10 1.2894188e-09 ... 1.0000000e+00 1.0000000e+00\n",
      " 1.0000000e+00]\n",
      "[2.4010077e-08 4.2679005e-08 4.7026759e-08 ... 1.0000000e+00 1.0000000e+00\n",
      " 1.0000000e+00]\n",
      "[5.8844614e-09 3.0906680e-08 6.0433202e-08 ... 1.0000000e+00 1.0000000e+00\n",
      " 1.0000000e+00]\n",
      "[4.8679955e-10 4.2026604e-09 7.1190578e-09 ... 1.0000000e+00 1.0000000e+00\n",
      " 1.0000000e+00]\n",
      "[3.7827477e-10 5.8855276e-09 8.1563911e-09 ... 1.0000000e+00 1.0000000e+00\n",
      " 1.0000000e+00]\n",
      "[6.8131228e-10 1.8417092e-09 5.8531859e-09 ... 1.0000000e+00 1.0000000e+00\n",
      " 1.0000000e+00]\n",
      "[4.30095533e-08 1.05277735e-07 1.13878848e-07 ... 1.00000000e+00\n",
      " 1.00000000e+00 1.00000000e+00]\n",
      "[4.2409759e-08 9.7215676e-08 1.2135295e-07 ... 1.0000000e+00 1.0000000e+00\n",
      " 1.0000000e+00]\n",
      "[3.3108194e-10 1.8804029e-09 7.2313902e-08 ... 1.0000000e+00 1.0000000e+00\n",
      " 1.0000000e+00]\n",
      "[8.7987138e-09 9.2453467e-09 1.0976273e-08 ... 1.0000000e+00 1.0000000e+00\n",
      " 1.0000000e+00]\n",
      "[2.7320919e-08 1.2659234e-07 1.3674354e-07 ... 1.0000000e+00 1.0000000e+00\n",
      " 1.0000000e+00]\n",
      "[1.0723153e-08 3.3487638e-08 4.4988081e-08 ... 1.0000000e+00 1.0000000e+00\n",
      " 1.0000000e+00]\n",
      "[5.659290e-09 6.417358e-08 3.257626e-07 ... 1.000000e+00 1.000000e+00\n",
      " 1.000000e+00]\n",
      "[1.6893328e-08 2.1124576e-08 2.8188339e-08 ... 1.0000000e+00 1.0000000e+00\n",
      " 1.0000000e+00]\n",
      "[8.1656246e-08 1.1753320e-07 3.8455255e-07 ... 1.0000000e+00 1.0000000e+00\n",
      " 1.0000000e+00]\n",
      "[1.8838185e-07 2.0669700e-07 2.1406230e-07 ... 1.0000000e+00 1.0000000e+00\n",
      " 1.0000000e+00]\n",
      "[2.3239519e-08 6.1488365e-08 8.9504809e-08 ... 1.0000000e+00 1.0000000e+00\n",
      " 1.0000000e+00]\n",
      "[1.7724117e-09 1.2605572e-08 2.7569252e-08 ... 1.0000000e+00 1.0000000e+00\n",
      " 1.0000000e+00]\n",
      "[7.3276758e-09 1.3616438e-08 1.3919550e-08 ... 1.0000000e+00 1.0000000e+00\n",
      " 1.0000000e+00]\n",
      "[1.8391406e-08 3.6343760e-08 2.6125036e-07 ... 1.0000000e+00 1.0000000e+00\n",
      " 1.0000000e+00]\n",
      "[6.425337e-14 1.497968e-12 3.826998e-12 ... 1.000000e+00 1.000000e+00\n",
      " 1.000000e+00]\n",
      "[9.9871021e-11 1.1698129e-10 1.4436116e-10 ... 1.0000000e+00 1.0000000e+00\n",
      " 1.0000000e+00]\n",
      "[1.6972262e-08 4.0617227e-08 6.7242944e-08 ... 1.0000000e+00 1.0000000e+00\n",
      " 1.0000000e+00]\n",
      "[5.0320779e-08 7.4044877e-08 1.5227299e-07 ... 1.0000000e+00 1.0000000e+00\n",
      " 1.0000000e+00]\n",
      "[1.1455670e-09 2.4882418e-09 2.9529224e-09 ... 1.0000000e+00 1.0000000e+00\n",
      " 1.0000000e+00]\n",
      "[1.8671045e-09 2.0758024e-09 2.4337705e-09 ... 1.0000000e+00 1.0000000e+00\n",
      " 1.0000000e+00]\n",
      "[3.9921751e-08 1.3902428e-07 1.8628961e-07 ... 1.0000000e+00 1.0000000e+00\n",
      " 1.0000000e+00]\n",
      "[2.7573916e-09 4.3144692e-09 1.4312810e-08 ... 1.0000000e+00 1.0000000e+00\n",
      " 1.0000000e+00]\n",
      "[5.4137377e-08 6.0062725e-08 1.1174505e-07 ... 1.0000000e+00 1.0000000e+00\n",
      " 1.0000000e+00]\n",
      "[1.3688047e-08 6.9527289e-08 1.7084402e-07 ... 1.0000000e+00 1.0000000e+00\n",
      " 1.0000000e+00]\n",
      "[1.2536474e-11 3.6359166e-11 5.2279492e-10 ... 1.0000000e+00 1.0000000e+00\n",
      " 1.0000000e+00]\n",
      "[4.6169825e-11 1.7283043e-10 3.7331763e-10 ... 1.0000000e+00 1.0000000e+00\n",
      " 1.0000000e+00]\n",
      "[3.4403067e-09 4.2391219e-09 1.4030748e-07 ... 1.0000000e+00 1.0000000e+00\n",
      " 1.0000000e+00]\n",
      "[7.0852701e-10 2.6687610e-09 2.1495213e-08 ... 1.0000000e+00 1.0000000e+00\n",
      " 1.0000000e+00]\n",
      "[2.2957322e-07 4.8273176e-07 7.2592354e-07 ... 1.0000000e+00 1.0000000e+00\n",
      " 1.0000000e+00]\n",
      "[7.2371584e-08 7.4027653e-08 8.3096062e-08 ... 1.0000000e+00 1.0000000e+00\n",
      " 1.0000000e+00]\n",
      "[2.9212178e-11 5.9361301e-11 1.5162517e-10 ... 1.0000000e+00 1.0000000e+00\n",
      " 1.0000000e+00]\n",
      "[2.9987678e-08 3.7298637e-08 4.0373234e-08 ... 1.0000000e+00 1.0000000e+00\n",
      " 1.0000000e+00]\n",
      "[1.2149562e-11 1.8536190e-11 1.9895571e-11 ... 1.0000000e+00 1.0000000e+00\n",
      " 1.0000000e+00]\n",
      "[1.0536422e-09 1.5947849e-09 2.2396240e-09 ... 1.0000000e+00 1.0000000e+00\n",
      " 1.0000000e+00]\n",
      "[3.4976775e-09 1.4101072e-08 4.2609543e-08 ... 1.0000000e+00 1.0000000e+00\n",
      " 1.0000000e+00]\n",
      "[2.2934568e-09 3.1953193e-09 3.3746403e-09 ... 1.0000000e+00 1.0000000e+00\n",
      " 1.0000000e+00]\n",
      "[2.0140332e-09 4.5128834e-09 4.6500936e-09 ... 1.0000000e+00 1.0000000e+00\n",
      " 1.0000000e+00]\n",
      "[1.0260177e-06 1.7867145e-06 4.1236822e-06 ... 1.0000000e+00 1.0000000e+00\n",
      " 1.0000000e+00]\n",
      "[8.3548245e-11 2.4379507e-10 6.0120209e-10 ... 1.0000000e+00 1.0000000e+00\n",
      " 1.0000000e+00]\n",
      "[8.8498535e-11 1.6340676e-10 1.1124308e-09 ... 1.0000000e+00 1.0000000e+00\n",
      " 1.0000000e+00]\n",
      "[6.9028041e-13 3.7124245e-12 7.8310119e-12 ... 1.0000000e+00 1.0000000e+00\n",
      " 1.0000000e+00]\n",
      "[1.2442812e-10 2.3744862e-10 1.3107363e-09 ... 1.0000000e+00 1.0000000e+00\n",
      " 1.0000000e+00]\n",
      "[2.2406323e-09 2.9435259e-09 7.4159332e-09 ... 1.0000000e+00 1.0000000e+00\n",
      " 1.0000000e+00]\n",
      "[7.2379108e-10 7.3184114e-10 1.3831175e-09 ... 1.0000000e+00 1.0000000e+00\n",
      " 1.0000000e+00]\n",
      "[1.8257167e-07 1.8264690e-07 2.7889450e-07 ... 1.0000000e+00 1.0000000e+00\n",
      " 1.0000000e+00]\n",
      "[1.2447600e-07 1.7716630e-07 2.3464227e-07 ... 1.0000000e+00 1.0000000e+00\n",
      " 1.0000000e+00]\n",
      "[6.4519216e-11 1.3722277e-10 2.8418676e-09 ... 1.0000000e+00 1.0000000e+00\n",
      " 1.0000000e+00]\n"
     ]
    },
    {
     "name": "stdout",
     "output_type": "stream",
     "text": [
      "[2.2424493e-09 2.4951425e-09 1.4415000e-08 ... 1.0000000e+00 1.0000000e+00\n",
      " 1.0000000e+00]\n",
      "[9.4891303e-11 2.2999565e-10 4.4921927e-10 ... 1.0000000e+00 1.0000000e+00\n",
      " 1.0000000e+00]\n",
      "[8.8688390e-09 2.3819275e-08 2.6397991e-08 ... 1.0000000e+00 1.0000000e+00\n",
      " 1.0000000e+00]\n",
      "[1.2660382e-09 1.6414216e-09 2.5870908e-09 ... 1.0000000e+00 1.0000000e+00\n",
      " 1.0000000e+00]\n",
      "[1.0705398e-11 2.5232824e-10 3.2311520e-10 ... 1.0000000e+00 1.0000000e+00\n",
      " 1.0000000e+00]\n",
      "[6.1732646e-09 1.1092617e-08 1.3184723e-08 ... 1.0000000e+00 1.0000000e+00\n",
      " 1.0000000e+00]\n",
      "[8.0140972e-10 1.7418272e-09 1.3012316e-08 ... 1.0000000e+00 1.0000000e+00\n",
      " 1.0000000e+00]\n",
      "[1.3639644e-09 5.7214806e-09 2.0670560e-08 ... 1.0000000e+00 1.0000000e+00\n",
      " 1.0000000e+00]\n",
      "[4.01799483e-08 6.14039806e-08 1.09640986e-07 ... 1.00000000e+00\n",
      " 1.00000000e+00 1.00000000e+00]\n",
      "[9.7838193e-10 9.5448671e-09 2.0330036e-08 ... 1.0000000e+00 1.0000000e+00\n",
      " 1.0000000e+00]\n",
      "[1.1771774e-09 1.2769880e-09 5.6753100e-09 ... 1.0000000e+00 1.0000000e+00\n",
      " 1.0000000e+00]\n",
      "[1.6173305e-09 2.0394575e-09 2.0514583e-09 ... 1.0000000e+00 1.0000000e+00\n",
      " 1.0000000e+00]\n",
      "[1.7624140e-08 1.4846172e-07 1.8936946e-07 ... 1.0000000e+00 1.0000000e+00\n",
      " 1.0000000e+00]\n",
      "[5.6660049e-10 9.7829234e-10 1.5452263e-09 ... 1.0000000e+00 1.0000000e+00\n",
      " 1.0000000e+00]\n",
      "[6.0843941e-11 2.5956898e-10 5.0365567e-10 ... 1.0000000e+00 1.0000000e+00\n",
      " 1.0000000e+00]\n",
      "[2.8859859e-10 4.4280848e-10 4.4376558e-10 ... 1.0000000e+00 1.0000000e+00\n",
      " 1.0000000e+00]\n",
      "[1.1652427e-11 3.2947034e-11 3.5806805e-11 ... 1.0000000e+00 1.0000000e+00\n",
      " 1.0000000e+00]\n",
      "[7.4897661e-09 1.6529528e-08 9.2761198e-08 ... 1.0000000e+00 1.0000000e+00\n",
      " 1.0000000e+00]\n",
      "[1.7787370e-10 1.2355127e-09 1.3242279e-09 ... 1.0000000e+00 1.0000000e+00\n",
      " 1.0000000e+00]\n",
      "[6.2600343e-13 1.4921280e-12 2.9483423e-12 ... 1.0000000e+00 1.0000000e+00\n",
      " 1.0000000e+00]\n",
      "[5.7406887e-12 8.3813831e-11 8.7432304e-11 ... 1.0000000e+00 1.0000000e+00\n",
      " 1.0000000e+00]\n",
      "[1.3472787e-10 2.8422849e-09 3.4565526e-09 ... 1.0000000e+00 1.0000000e+00\n",
      " 1.0000000e+00]\n",
      "[6.717090e-12 7.500019e-12 3.996351e-11 ... 1.000000e+00 1.000000e+00\n",
      " 1.000000e+00]\n",
      "[5.1829054e-13 6.7233545e-13 8.6344403e-13 ... 1.0000000e+00 1.0000000e+00\n",
      " 1.0000000e+00]\n",
      "[5.3012755e-12 1.0435789e-11 3.4701703e-11 ... 1.0000000e+00 1.0000000e+00\n",
      " 1.0000000e+00]\n"
     ]
    }
   ],
   "source": [
    "rank_accuracies = []\n",
    "AP = []\n",
    "for val, camId_v, y_v  in zip(X_query, camId_query, y_query):\n",
    "    v_v_dists = []\n",
    "    y_valid = []\n",
    "    for val2, camId_v2, y_v2  in zip(X_gallery, camId_gallery, y_gallery):\n",
    "        if ((camId_v == camId_v2) and (y_v == y_v2)):\n",
    "            continue\n",
    "        else:\n",
    "            randindex = random.randint(0, 772)\n",
    "            val3 = X_gallery[randindex]\n",
    "            y_v3 = y_gallery[randindex]\n",
    "\n",
    "            dist = model.predict(np.concatenate((val, val2, val3)).reshape((1,6144)))[0][0]\n",
    "            v_v_dists.append(dist)\n",
    "            y_valid.append(y_v2)\n",
    "\n",
    "    tot_label_occur = y_valid.count(y_v)\n",
    "    v_v_dists = np.array(v_v_dists)\n",
    "    y_valid = np.array(y_valid)\n",
    "\n",
    "    \n",
    "    _indexes = np.argsort(v_v_dists)\n",
    "\n",
    "    # Sorted distances and labels\n",
    "    v_v_dists, y_valid = v_v_dists[_indexes], y_valid[_indexes]\n",
    "    print(v_v_dists)\n",
    "    \n",
    "    if tot_label_occur != 0:\n",
    "        AP_, rank_A = get_acc_score(y_valid, y_v, tot_label_occur)\n",
    "\n",
    "        AP.append(AP_)\n",
    "\n",
    "        rank_accuracies.append(rank_A) \n",
    "\n",
    "    #if q  > 5:\n",
    "    #    break\n",
    "    #q = q+1\n",
    "\n",
    "rank_accuracies = np.array(rank_accuracies)\n",
    "\n",
    "total = rank_accuracies.shape[0]\n",
    "rank_accuracies = rank_accuracies.sum(axis = 0)\n",
    "rank_accuracies = np.divide(rank_accuracies, total)\n",
    "\n",
    "i = 0\n",
    "print ('Accuracies by Rank:')\n",
    "while i < rank_accuracies.shape[0]:\n",
    "    print('Rank ', i+1, ' = %.2f%%' % (rank_accuracies[i] * 100), '\\t',\n",
    "          'Rank ', i+2, ' = %.2f%%' % (rank_accuracies[i+1] * 100), '\\t',\n",
    "          'Rank ', i+3, ' = %.2f%%' % (rank_accuracies[i+2] * 100), '\\t',\n",
    "          'Rank ', i+4, ' = %.2f%%' % (rank_accuracies[i+3] * 100), '\\t',\n",
    "          'Rank ', i+5, ' = %.2f%%' % (rank_accuracies[i+4] * 100))\n",
    "    i = i+5\n",
    "\n",
    "AP = np.array(AP)\n",
    "\n",
    "mAP = AP.sum()/AP.shape[0]\n",
    "print('mAP = %.2f%%' % (mAP * 100))"
   ]
  },
  {
   "cell_type": "code",
   "execution_count": null,
   "metadata": {},
   "outputs": [],
   "source": []
  }
 ],
 "metadata": {
  "kernelspec": {
   "display_name": "Python 3",
   "language": "python",
   "name": "python3"
  },
  "language_info": {
   "codemirror_mode": {
    "name": "ipython",
    "version": 3
   },
   "file_extension": ".py",
   "mimetype": "text/x-python",
   "name": "python",
   "nbconvert_exporter": "python",
   "pygments_lexer": "ipython3",
   "version": "3.6.5"
  }
 },
 "nbformat": 4,
 "nbformat_minor": 2
}
